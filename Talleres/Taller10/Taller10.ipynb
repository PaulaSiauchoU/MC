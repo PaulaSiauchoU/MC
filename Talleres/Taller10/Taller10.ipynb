{
 "cells": [
  {
   "cell_type": "code",
   "execution_count": 1,
   "metadata": {
    "collapsed": false
   },
   "outputs": [
    {
     "name": "stdout",
     "output_type": "stream",
     "text": [
      "Populating the interactive namespace from numpy and matplotlib\n"
     ]
    }
   ],
   "source": [
    "%pylab inline\n",
    "import numpy as np"
   ]
  },
  {
   "cell_type": "code",
   "execution_count": 34,
   "metadata": {
    "collapsed": false
   },
   "outputs": [
    {
     "name": "stdout",
     "output_type": "stream",
     "text": [
      "\n"
     ]
    }
   ],
   "source": [
    "#Modificación del código para el modelo de Ising en 2D mostrado en clase.\n",
    "N=20\n",
    "lattice=np.ones((N,N,N))\n",
    "T=10.\n",
    "beta=1./T\n",
    "def total_energy():\n",
    "    global lattice\n",
    "    return -sum(sum(lattice*(np.roll(lattice,1,axis=1)+\n",
    "                         np.roll(lattice,-1,axis=1)+\n",
    "                         np.roll(lattice,1,axis=0)+\n",
    "                         np.roll(lattice,-1,axis=0)+\n",
    "                         np.roll(lattice,-1,axis=2)+\n",
    "                         np.roll(lattice,-1,axis=0))))\n",
    "def block_energy(i,j,k):\n",
    "    global lattice\n",
    "    global N\n",
    "    return -(lattice[i,j,k]*(lattice[(i-1)%N,j,k]+\n",
    "                             lattice[(i+1)%N,j,k]+\n",
    "                             lattice[i,(j+1)%N,k]+\n",
    "                             lattice[i,(j-1)%N,k]+\n",
    "                             lattice[i,j,(k-1)%N]+\n",
    "                             lattice[i,j,(k+1)%N]))\n",
    "def flipone():\n",
    "    global lattice\n",
    "    global beta\n",
    "    global N\n",
    "    # Escoger un número aleatorio y agregar otra dimensión. \n",
    "    nx, ny, nz= np.random.randint(0,N),np.random.randint(0,N),np.random.randint(0,N)\n",
    "    \n",
    "    en_i=block_energy(nx,ny,nz)\n",
    "    # Para asegurar que funciona si está invertido hay que invetir los signos de la matriz lattice\n",
    "    en_f=-en_i\n",
    "    if en_f<en_i: \n",
    "        lattice[nx,ny,nz]*=-1\n",
    "    elif np.random.random()<min(1,np.exp(-beta*(en_f-en_i))):\n",
    "        lattice[nx,ny,nz]*=-1\n",
    "\n",
    "def magnetization():\n",
    "    global lattice\n",
    "    global N\n",
    "    return sum(sum(lattice))/N**3"
   ]
  },
  {
   "cell_type": "code",
   "execution_count": 35,
   "metadata": {
    "collapsed": false
   },
   "outputs": [
    {
     "name": "stdout",
     "output_type": "stream",
     "text": [
      "0.1 0.302564102564 0.505128205128 0.707692307692 0.910256410256 1.11282051282 1.31538461538 1.51794871795 1.72051282051 1.92307692308 2.12564102564 2.32820512821 2.53076923077 2.73333333333 2.9358974359 3.13846153846 3.34102564103 3.54358974359 3.74615384615 3.94871794872 4.15128205128 4.35384615385 4.55641025641 4.75897435897 4.96153846154 5.1641025641 5.36666666667 5.56923076923 5.77179487179 5.97435897436 6.17692307692 6.37948717949 6.58205128205 6.78461538462 6.98717948718 7.18974358974 7.39230769231 7.59487179487 7.79743589744 8.0\n"
     ]
    }
   ],
   "source": [
    "#para calcular las últimas 10 magnetizaciones.\n",
    "magnetizaciones=[]\n",
    "lattice=np.ones((N,N,N))\n",
    "numIter=500*N**2 #este número de iteraciones está en el orden pedido en el enunciado. \n",
    "for temp in np.linspace(0.1,8,40):\n",
    "    print temp,\n",
    "    T=temp\n",
    "    beta=1./T\n",
    "    mag=[]\n",
    "    for i in range(numIter):\n",
    "        flipone()\n",
    "        if i>numIter-10: #10 últimas iteraciones \n",
    "            mag.append(magnetization())\n",
    "    magnetizaciones.append([T,np.mean(mag)])\n",
    "magnetizaciones=np.array(magnetizaciones)"
   ]
  },
  {
   "cell_type": "code",
   "execution_count": 40,
   "metadata": {
    "collapsed": false
   },
   "outputs": [
    {
     "data": {
      "image/png": "[encoded data removed]",
      "text/plain": [
       "<matplotlib.figure.Figure at 0x7fb4753e9750>"
      ]
     },
     "metadata": {},
     "output_type": "display_data"
    }
   ],
   "source": [
    "plt.figure(figsize=(10,6))\n",
    "plt.plot(magnetizaciones[:,0],magnetizaciones[:,1],\"o-\")\n",
    "plt.xlabel(\"T/J\")\n",
    "plt.ylabel(\"M/N\")\n",
    "plt.title(u\"Magnetización en el Modelo de Ising 3D\") \n",
    "plt.ylim(-0.1,1)\n",
    "\n",
    "plt.axvline(4.51, color='red')\n",
    "plt.show() "
   ]
  },
  {
   "cell_type": "code",
   "execution_count": 24,
   "metadata": {
    "collapsed": false
   },
   "outputs": [
    {
     "name": "stdout",
     "output_type": "stream",
     "text": [
      "[[  1.00000000e-01   1.00000000e+00]\n",
      " [  3.72413793e-01   1.00000000e+00]\n",
      " [  6.44827586e-01   1.00000000e+00]\n",
      " [  9.17241379e-01   9.99992371e-01]\n",
      " [  1.18965517e+00   9.99885559e-01]\n",
      " [  1.46206897e+00   9.99481201e-01]\n",
      " [  1.73448276e+00   9.98291016e-01]\n",
      " [  2.00689655e+00   9.95445251e-01]\n",
      " [  2.27931034e+00   9.89761353e-01]\n",
      " [  2.55172414e+00   9.81536865e-01]\n",
      " [  2.82413793e+00   9.68368530e-01]\n",
      " [  3.09655172e+00   9.48822869e-01]\n",
      " [  3.36896552e+00   9.22732883e-01]\n",
      " [  3.64137931e+00   8.86371189e-01]\n",
      " [  3.91379310e+00   8.43449063e-01]\n",
      " [  4.18620690e+00   7.88686117e-01]\n",
      " [  4.45862069e+00   7.18844944e-01]\n",
      " [  4.73103448e+00   6.38718499e-01]\n",
      " [  5.00344828e+00   5.47916836e-01]\n",
      " [  5.27586207e+00   4.50385200e-01]\n",
      " [  5.54827586e+00   3.51888869e-01]\n",
      " [  5.82068966e+00   2.58296543e-01]\n",
      " [  6.09310345e+00   1.78656684e-01]\n",
      " [  6.36551724e+00   1.17263794e-01]\n",
      " [  6.63793103e+00   7.30234782e-02]\n",
      " [  6.91034483e+00   4.10037571e-02]\n",
      " [  7.18275862e+00   1.78960164e-02]\n",
      " [  7.45517241e+00   1.06591119e-02]\n",
      " [  7.72758621e+00   7.66923692e-03]\n",
      " [  8.00000000e+00   1.73356798e-03]]\n"
     ]
    }
   ],
   "source": [
    "print magnetizaciones"
   ]
  },
  {
   "cell_type": "code",
   "execution_count": null,
   "metadata": {
    "collapsed": true
   },
   "outputs": [],
   "source": []
  }
 ],
 "metadata": {
  "kernelspec": {
   "display_name": "Python 2",
   "language": "python",
   "name": "python2"
  },
  "language_info": {
   "codemirror_mode": {
    "name": "ipython",
    "version": 2
   },
   "file_extension": ".py",
   "mimetype": "text/x-python",
   "name": "python",
   "nbconvert_exporter": "python",
   "pygments_lexer": "ipython2",
   "version": "2.7.10"
  }
 },
 "nbformat": 4,
 "nbformat_minor": 0
}
