{
 "cells": [
  {
   "cell_type": "code",
   "execution_count": 2,
   "metadata": {
    "collapsed": false
   },
   "outputs": [],
   "source": [
    "import numpy as np\n",
    "import matplotlib as mpl\n",
    "import matplotlib.pyplot as plt\n",
    "import os\n",
    "%matplotlib inline"
   ]
  },
  {
   "cell_type": "markdown",
   "metadata": {},
   "source": [
    "#Coreografía"
   ]
  },
  {
   "cell_type": "code",
   "execution_count": 64,
   "metadata": {
    "collapsed": false
   },
   "outputs": [],
   "source": [
    "#constantes\n",
    "\n",
    "a = 0.24250109\n",
    "\n",
    "b = - 0.0607718825\n",
    "\n",
    "c = 0.93240737\n",
    "\n",
    "d = 0.86473146\n",
    "\n",
    "h=0.1 #tamaño del step\n",
    "\n",
    "m1=1\n",
    "\n",
    "m2=1\n",
    "\n",
    "m3=1\n",
    "\n",
    "#condiciones iniciales \n",
    "r1=[1,1]\n",
    "\n",
    "r2=[-1,-1]\n",
    "\n",
    "r3=[0,0]\n",
    "\n",
    "v1= [c,d]\n",
    "\n",
    "v2 =[c,d]\n",
    "\n",
    "v3 = [-2*c,-2*d]\n",
    "\n",
    "\n",
    "#matrices\n",
    "\n",
    "n_p = int((40.0)/h)\n",
    "\n",
    "t=np.zeros(n_p)\n",
    "x1=np.zeros(n_p)\n",
    "y2=np.zeros(n_p)\n",
    "\n",
    "x2=np.zeros(n_p)\n",
    "y2=np.zeros(n_p)\n",
    "\n",
    "x3=np.zeros(n_p)\n",
    "y3=np.zeros(n_p)\n",
    "\n",
    "x4=np.zeros(n_p)\n"
   ]
  },
  {
   "cell_type": "markdown",
   "metadata": {
    "collapsed": false
   },
   "source": [
    "#Grupo de trabajo con Arturo Velazquez.El primer punto está en el notebook de Arturo Velazquez"
   ]
  },
  {
   "cell_type": "markdown",
   "metadata": {
    "collapsed": true
   },
   "source": [
    "#Punto 2"
   ]
  },
  {
   "cell_type": "code",
   "execution_count": 66,
   "metadata": {
    "collapsed": false
   },
   "outputs": [],
   "source": [
    "#Condiciones iniciales \n",
    "\n",
    "p1i=np.array([0.384277200514,0])\n",
    "p2i=np.array([-0.0156823005697,-0.13966430504])\n",
    "p3i=np.array([-0.352912599375,0])\n",
    "p4i=np.array([-0.0156823005697, 0.13966430504])\n",
    "\n",
    "v1i=np.array([0,a])\n",
    "v2i=np.array([-2.01155925929,-1.19817066623])\n",
    "v3i=np.array([0,1.63619158614])\n",
    "v4i=np.array([2.01155925929,-1.19817066623])\n",
    "\n",
    "p12=p1i-p2i\n",
    "p13=(p1i-p3i)\n",
    "p14=(p1i-p4i)\n",
    "p23=(p1i-p3i)\n",
    "p24=(p2i-p4i)\n",
    "p34=(p3i-p4i)\n",
    " \n",
    "x12=np.linalg.norm(p12)\n",
    "x13=np.linalg.norm(p13)\n",
    "x14=np.linalg.norm(p14)\n",
    "x23=np.linalg.norm(p23)\n",
    "x24=np.linalg.norm(p24)\n",
    "x34=np.linalg.norm(p34)\n",
    "\n",
    "\n",
    "\n",
    "t=np.zeros(n_p)\n",
    "i1=np.zeros(n_p)\n",
    "j1=np.zeros(n_p)\n",
    "\n",
    "i2=np.zeros(n_p)\n",
    "j2=np.zeros(n_p)\n",
    "\n",
    "i3=np.zeros(n_p)\n",
    "j3=np.zeros(n_p)\n",
    "\n",
    "i4=np.zeros(n_p)\n",
    "j4=np.zeros(n_p)\n",
    "\n"
   ]
  },
  {
   "cell_type": "code",
   "execution_count": 94,
   "metadata": {
    "collapsed": false
   },
   "outputs": [
    {
     "name": "stdout",
     "output_type": "stream",
     "text": [
      "400\n"
     ]
    }
   ],
   "source": [
    "#Ecuaciones \n",
    "m12=np.zeros([n_p,2])\n",
    "m13=np.zeros([n_p,2])\n",
    "m14=np.zeros([n_p,2])\n",
    "m23=np.zeros([n_p,2])\n",
    "m24=np.zeros([n_p,2])\n",
    "m34=np.zeros([n_p,2])\n",
    "\n",
    "n12=np.zeros([n_p])\n",
    "n13=np.zeros([n_p])\n",
    "n14=np.zeros([n_p])\n",
    "n23=np.zeros([n_p])\n",
    "n24=np.zeros([n_p])\n",
    "n34=np.zeros([n_p])\n",
    "for i in range(n_p):\n",
    "    for j in range(1):\n",
    "    \n",
    "        m12[i]=i1[i]-i2[i]\n",
    "        m12[j]=j1[j]-j2[j]\n",
    "        m13[i]=i1[i]-i3[i]\n",
    "        m13[j]=j1[i]-j3[i]\n",
    "        m14[i]=i1[i]-i4[i]\n",
    "        m14[j]=j1[i]-j4[i]\n",
    "        m23[i]=i2[i]-i3[i]\n",
    "        m23[j]=j2[i]-j3[i]\n",
    "        m24[i]=i2[i]-i4[i]\n",
    "        m24[j]=j2[i]-j4[i]\n",
    "        m34[i]=i3[i]-i4[i]\n",
    "        m34[j]=j3[i]-j4[i]\n",
    "    \n",
    "   \n",
    " \n",
    "        n12[i]=np.linalg.norm(m12[i,j])\n",
    "        n13[i]=np.linalg.norm(m13[i,j])\n",
    "        n14[i]=np.linalg.norm(m14[i,j])\n",
    "        n23[i]=np.linalg.norm(m23[i,j])\n",
    "        n24[i]=np.linalg.norm(m24[i,j])\n",
    "        n34[i]=np.linalg.norm(m34[i,j])\n",
    "    \n",
    " \n",
    "def dv1(t,n12,n13,n14,n23,n24,n34,m12,m13,m14,m23,m24,m34):\n",
    "    return (-m12/n12**3) - (m13/n13**3) - (m14/n14**3)\n",
    "\n",
    "def dv2(t,n12,n13,n14,n23,n24,n34,m12,m13,m14,m23,m24,m34):\n",
    "    return (m12/n12**3) - (m23/n23**3) - (m24/n24**3)\n",
    "\n",
    "def dv3(t,n12,n13,n14,n23,n24,n34,m12,m13,m14,m23,m24,m34):\n",
    "    return (m13/n13**3) + (m23/n23**3) - (m34/n34**3)\n",
    "\n",
    "def dv4(t,n12,n13,n14,n23,n24,n34,m12,m13,m14,m23,m24,m34):\n",
    "    return (m14/n14**3) + (m24/n24**3) + (m34/n34**3)\n",
    "\n",
    "\n",
    "\n",
    "\n",
    "\n",
    "print len(m12)\n"
   ]
  },
  {
   "cell_type": "code",
   "execution_count": 95,
   "metadata": {
    "collapsed": false
   },
   "outputs": [
    {
     "name": "stderr",
     "output_type": "stream",
     "text": [
      "/home/paula/anaconda/lib/python2.7/site-packages/IPython/kernel/__main__.py:42: RuntimeWarning: divide by zero encountered in divide\n",
      "/home/paula/anaconda/lib/python2.7/site-packages/IPython/kernel/__main__.py:42: RuntimeWarning: invalid value encountered in divide\n",
      "/home/paula/anaconda/lib/python2.7/site-packages/IPython/kernel/__main__.py:45: RuntimeWarning: divide by zero encountered in divide\n",
      "/home/paula/anaconda/lib/python2.7/site-packages/IPython/kernel/__main__.py:45: RuntimeWarning: invalid value encountered in divide\n",
      "/home/paula/anaconda/lib/python2.7/site-packages/IPython/kernel/__main__.py:48: RuntimeWarning: invalid value encountered in divide\n",
      "/home/paula/anaconda/lib/python2.7/site-packages/IPython/kernel/__main__.py:48: RuntimeWarning: divide by zero encountered in divide\n",
      "/home/paula/anaconda/lib/python2.7/site-packages/IPython/kernel/__main__.py:51: RuntimeWarning: divide by zero encountered in divide\n"
     ]
    },
    {
     "ename": "ValueError",
     "evalue": "operands could not be broadcast together with shapes (400,2) (400,) ",
     "output_type": "error",
     "traceback": [
      "\u001b[1;31m---------------------------------------------------------------------------\u001b[0m",
      "\u001b[1;31mValueError\u001b[0m                                Traceback (most recent call last)",
      "\u001b[1;32m<ipython-input-95-d2a78687a56d>\u001b[0m in \u001b[0;36m<module>\u001b[1;34m()\u001b[0m\n\u001b[0;32m     77\u001b[0m \u001b[1;33m\u001b[0m\u001b[0m\n\u001b[0;32m     78\u001b[0m \u001b[1;33m\u001b[0m\u001b[0m\n\u001b[1;32m---> 79\u001b[1;33m     \u001b[0mk2_dv1\u001b[0m \u001b[1;33m=\u001b[0m \u001b[0mdv1\u001b[0m\u001b[1;33m(\u001b[0m\u001b[0mt\u001b[0m\u001b[1;33m,\u001b[0m\u001b[0mn12\u001b[0m\u001b[1;33m,\u001b[0m\u001b[0mn13\u001b[0m\u001b[1;33m,\u001b[0m\u001b[0mn14\u001b[0m\u001b[1;33m,\u001b[0m\u001b[0mn23\u001b[0m\u001b[1;33m,\u001b[0m\u001b[0mn24\u001b[0m\u001b[1;33m,\u001b[0m\u001b[0mn34\u001b[0m\u001b[1;33m,\u001b[0m\u001b[0mm12\u001b[0m\u001b[1;33m,\u001b[0m\u001b[0mm13\u001b[0m\u001b[1;33m,\u001b[0m\u001b[0mm14\u001b[0m\u001b[1;33m,\u001b[0m\u001b[0mm23\u001b[0m\u001b[1;33m,\u001b[0m\u001b[0mm24\u001b[0m\u001b[1;33m,\u001b[0m\u001b[0mm34\u001b[0m\u001b[1;33m)\u001b[0m\u001b[1;33m\u001b[0m\u001b[0m\n\u001b[0m\u001b[0;32m     80\u001b[0m     \u001b[0mk2_dv2\u001b[0m \u001b[1;33m=\u001b[0m \u001b[0mdv2\u001b[0m\u001b[1;33m(\u001b[0m\u001b[0mt\u001b[0m\u001b[1;33m,\u001b[0m\u001b[0mn12\u001b[0m\u001b[1;33m,\u001b[0m\u001b[0mn13\u001b[0m\u001b[1;33m,\u001b[0m\u001b[0mn14\u001b[0m\u001b[1;33m,\u001b[0m\u001b[0mn23\u001b[0m\u001b[1;33m,\u001b[0m\u001b[0mn24\u001b[0m\u001b[1;33m,\u001b[0m\u001b[0mn34\u001b[0m\u001b[1;33m,\u001b[0m\u001b[0mm12\u001b[0m\u001b[1;33m,\u001b[0m\u001b[0mm13\u001b[0m\u001b[1;33m,\u001b[0m\u001b[0mm14\u001b[0m\u001b[1;33m,\u001b[0m\u001b[0mm23\u001b[0m\u001b[1;33m,\u001b[0m\u001b[0mm24\u001b[0m\u001b[1;33m,\u001b[0m\u001b[0mm34\u001b[0m\u001b[1;33m)\u001b[0m\u001b[1;33m\u001b[0m\u001b[0m\n\u001b[0;32m     81\u001b[0m     \u001b[0mk2_dv3\u001b[0m \u001b[1;33m=\u001b[0m \u001b[0mdv3\u001b[0m\u001b[1;33m(\u001b[0m\u001b[0mt\u001b[0m\u001b[1;33m,\u001b[0m\u001b[0mn12\u001b[0m\u001b[1;33m,\u001b[0m\u001b[0mn13\u001b[0m\u001b[1;33m,\u001b[0m\u001b[0mn14\u001b[0m\u001b[1;33m,\u001b[0m\u001b[0mn23\u001b[0m\u001b[1;33m,\u001b[0m\u001b[0mn24\u001b[0m\u001b[1;33m,\u001b[0m\u001b[0mn34\u001b[0m\u001b[1;33m,\u001b[0m\u001b[0mm12\u001b[0m\u001b[1;33m,\u001b[0m\u001b[0mm13\u001b[0m\u001b[1;33m,\u001b[0m\u001b[0mm14\u001b[0m\u001b[1;33m,\u001b[0m\u001b[0mm23\u001b[0m\u001b[1;33m,\u001b[0m\u001b[0mm24\u001b[0m\u001b[1;33m,\u001b[0m\u001b[0mm34\u001b[0m\u001b[1;33m)\u001b[0m\u001b[1;33m\u001b[0m\u001b[0m\n",
      "\u001b[1;32m<ipython-input-94-56d739d96786>\u001b[0m in \u001b[0;36mdv1\u001b[1;34m(t, n12, n13, n14, n23, n24, n34, m12, m13, m14, m23, m24, m34)\u001b[0m\n\u001b[0;32m     40\u001b[0m \u001b[1;33m\u001b[0m\u001b[0m\n\u001b[0;32m     41\u001b[0m \u001b[1;32mdef\u001b[0m \u001b[0mdv1\u001b[0m\u001b[1;33m(\u001b[0m\u001b[0mt\u001b[0m\u001b[1;33m,\u001b[0m\u001b[0mn12\u001b[0m\u001b[1;33m,\u001b[0m\u001b[0mn13\u001b[0m\u001b[1;33m,\u001b[0m\u001b[0mn14\u001b[0m\u001b[1;33m,\u001b[0m\u001b[0mn23\u001b[0m\u001b[1;33m,\u001b[0m\u001b[0mn24\u001b[0m\u001b[1;33m,\u001b[0m\u001b[0mn34\u001b[0m\u001b[1;33m,\u001b[0m\u001b[0mm12\u001b[0m\u001b[1;33m,\u001b[0m\u001b[0mm13\u001b[0m\u001b[1;33m,\u001b[0m\u001b[0mm14\u001b[0m\u001b[1;33m,\u001b[0m\u001b[0mm23\u001b[0m\u001b[1;33m,\u001b[0m\u001b[0mm24\u001b[0m\u001b[1;33m,\u001b[0m\u001b[0mm34\u001b[0m\u001b[1;33m)\u001b[0m\u001b[1;33m:\u001b[0m\u001b[1;33m\u001b[0m\u001b[0m\n\u001b[1;32m---> 42\u001b[1;33m     \u001b[1;32mreturn\u001b[0m \u001b[1;33m(\u001b[0m\u001b[1;33m-\u001b[0m\u001b[0mm12\u001b[0m\u001b[1;33m/\u001b[0m\u001b[0mn12\u001b[0m\u001b[1;33m**\u001b[0m\u001b[1;36m3\u001b[0m\u001b[1;33m)\u001b[0m \u001b[1;33m-\u001b[0m \u001b[1;33m(\u001b[0m\u001b[0mm13\u001b[0m\u001b[1;33m/\u001b[0m\u001b[0mn13\u001b[0m\u001b[1;33m**\u001b[0m\u001b[1;36m3\u001b[0m\u001b[1;33m)\u001b[0m \u001b[1;33m-\u001b[0m \u001b[1;33m(\u001b[0m\u001b[0mm14\u001b[0m\u001b[1;33m/\u001b[0m\u001b[0mn14\u001b[0m\u001b[1;33m**\u001b[0m\u001b[1;36m3\u001b[0m\u001b[1;33m)\u001b[0m\u001b[1;33m\u001b[0m\u001b[0m\n\u001b[0m\u001b[0;32m     43\u001b[0m \u001b[1;33m\u001b[0m\u001b[0m\n\u001b[0;32m     44\u001b[0m \u001b[1;32mdef\u001b[0m \u001b[0mdv2\u001b[0m\u001b[1;33m(\u001b[0m\u001b[0mt\u001b[0m\u001b[1;33m,\u001b[0m\u001b[0mn12\u001b[0m\u001b[1;33m,\u001b[0m\u001b[0mn13\u001b[0m\u001b[1;33m,\u001b[0m\u001b[0mn14\u001b[0m\u001b[1;33m,\u001b[0m\u001b[0mn23\u001b[0m\u001b[1;33m,\u001b[0m\u001b[0mn24\u001b[0m\u001b[1;33m,\u001b[0m\u001b[0mn34\u001b[0m\u001b[1;33m,\u001b[0m\u001b[0mm12\u001b[0m\u001b[1;33m,\u001b[0m\u001b[0mm13\u001b[0m\u001b[1;33m,\u001b[0m\u001b[0mm14\u001b[0m\u001b[1;33m,\u001b[0m\u001b[0mm23\u001b[0m\u001b[1;33m,\u001b[0m\u001b[0mm24\u001b[0m\u001b[1;33m,\u001b[0m\u001b[0mm34\u001b[0m\u001b[1;33m)\u001b[0m\u001b[1;33m:\u001b[0m\u001b[1;33m\u001b[0m\u001b[0m\n",
      "\u001b[1;31mValueError\u001b[0m: operands could not be broadcast together with shapes (400,2) (400,) "
     ]
    }
   ],
   "source": [
    "#Runge Kutta\n",
    "t[0] = 0.0\n",
    "x1[0] = 0.0\n",
    "x2[0] = 0.0\n",
    "x3[0] = 0.0\n",
    "x4[0] = 0.0\n",
    "n12[0] = 0.0\n",
    "n13[0] = 0.0\n",
    "n14[0] = 0.0\n",
    "n23[0] = 0.0\n",
    "n24[0] = 0.0\n",
    "n34[0] = 0.0\n",
    "m12[0] = 0.0\n",
    "m13[0] = 0.0\n",
    "m14[0] = 0.0\n",
    "m23[0] = 0.0\n",
    "m24[0] = 0.0\n",
    "m34[0] = 0.0\n",
    "\n",
    "\n",
    "for i in range(2):\n",
    "    for j in range(2):\n",
    "        \n",
    "        if i ==1:\n",
    "            m12[i]=p12[0]\n",
    "            m12[j]=p12[1]\n",
    "            m13[i]=p13[0]\n",
    "            m13[j]=p13[1]\n",
    "            m14[i]=p14[0]\n",
    "            m14[j]=p14[1]\n",
    "            m23[i]=p23[0]\n",
    "            m23[j]=p23[1]\n",
    "            m24[i]=p24[0]\n",
    "            m24[j]=p24[1]\n",
    "            m34[i]=p34[0]\n",
    "            m34[j]=p34[1]\n",
    "            n12[i]=x12\n",
    "            n13[i]=x13\n",
    "            n14[i]=x14\n",
    "            n23[i]=x23\n",
    "            n24[i]=x24\n",
    "            n34[i]=x34\n",
    "        else:\n",
    "            m12[i]=m12[i]\n",
    "            m12[j]=m12[j]\n",
    "            m13[i]=m13[i]\n",
    "            m13[j]=m13[j]\n",
    "            m14[i]=m14[i]\n",
    "            m14[j]=m14[j]\n",
    "            m23[i]=m23[i]\n",
    "            m23[j]=m23[j]\n",
    "            m24[i]=m24[i]\n",
    "            m24[j]=m24[j]\n",
    "            m34[i]=m34[i]\n",
    "            m34[j]=m34[j]\n",
    "            n12[i]=n12[i]\n",
    "            n13[i]=n13[i]\n",
    "            n14[i]=n14[i]\n",
    "            n23[i]=n23[i]\n",
    "            n24[i]=n24[i]\n",
    "            n34[i]=n34[i]\n",
    "\n",
    "for i in range(1,n_p):\n",
    "  \n",
    "    k1_dv1 = dv1(t[i-1],n12[i-1],n13[i-1],n14[i-1],n23[i-1],n24[i-1],n34[i-1],m12[i-1],m13[i-1],m14[i-1],m23[i-1],m24[i-1],m34[i-1])\n",
    "    k1_dv2 = dv2(t[i-1],n12[i-1],n13[i-1],n14[i-1],n23[i-1],n24[i-1],n34[i-1],m12[i-1],m13[i-1],m14[i-1],m23[i-1],m24[i-1],m34[i-1])\n",
    "    k1_dv3 = dv3(t[i-1],n12[i-1],n13[i-1],n14[i-1],n23[i-1],n24[i-1],n34[i-1],m12[i-1],m13[i-1],m14[i-1],m23[i-1],m24[i-1],m34[i-1])\n",
    "    k1_dv4 = dv4(t[i-1],n12[i-1],n13[i-1],n14[i-1],n23[i-1],n24[i-1],n34[i-1],m12[i-1],m13[i-1],m14[i-1],m23[i-1],m24[i-1],m34[i-1])\n",
    "\n",
    "    #first step\n",
    "    t1 = t[i-1] + (h/2.0)\n",
    "    \n",
    "    x11= x1[i-1] + (h/2.0) * k1_dv1\n",
    "    x21= x2[i-1] + (h/2.0) * k1_dv2\n",
    "    x31= x3[i-1] + (h/2.0) * k1_dv3\n",
    "    x41= x4[i-1] + (h/2.0) * k1_dv4\n",
    "    \n",
    "\n",
    "    k2_dv1 = dv1(t,n12,n13,n14,n23,n24,n34,m12,m13,m14,m23,m24,m34)\n",
    "    k2_dv2 = dv2(t,n12,n13,n14,n23,n24,n34,m12,m13,m14,m23,m24,m34)\n",
    "    k2_dv3 = dv3(t,n12,n13,n14,n23,n24,n34,m12,m13,m14,m23,m24,m34)\n",
    "    k2_dv4 = dv4(t,n12,n13,n14,n23,n24,n34,m12,m13,m14,m23,m24,m34)\n",
    "\n",
    "    #second step\n",
    "    t2 = t[i-1] + (h/2.0)\n",
    "    \n",
    "    x12= x11[i-1] + (h/2.0) * k1_dv1\n",
    "    x22= x21[i-1] + (h/2.0) * k1_dv2\n",
    "    x32= x31[i-1] + (h/2.0) * k1_dv3\n",
    "    x42= x41[i-1] + (h/2.0) * k1_dv4\n",
    "    \n",
    "    \n",
    "    k3_dv1 = dv1(t,n12,n13,n14,n23,n24,n34,m12,m13,m14,m23,m24,m34)\n",
    "    k3_dv2 = dv2(t,n12,n13,n14,n23,n24,n34,m12,m13,m14,m23,m24,m34)\n",
    "    k3_dv3 = dv3(t,n12,n13,n14,n23,n24,n34,m12,m13,m14,m23,m24,m34)\n",
    "    k3_dv4 = dv4(t,n12,n13,n14,n23,n24,n34,m12,m13,m14,m23,m24,m34)\n",
    "\n",
    "    #third step\n",
    "    t3 = t[i-1] + h\n",
    "    x13 = x12[i-1] + (h/2.0) * k3_dv1\n",
    "    x23 = x22[i-1] + (h/2.0) * k3_dv2\n",
    "    x33= x32[i-1] + (h/2.0) * k3_dv3\n",
    "    \n",
    "    k4_dv1 = dv1(t,n12,n13,n14,n23,n24,n34,m12,m13,m14,m23,m24,m34)\n",
    "    k4_dv2 = dv2(t,n12,n13,n14,n23,n24,n34,m12,m13,m14,m23,m24,m34)\n",
    "    k4_dv3 = dv3(t,n12,n13,n14,n23,n24,n34,m12,m13,m14,m23,m24,m34)\n",
    "    k4_dv4 = dv4(t,n12,n13,n14,n23,n24,n34,m12,m13,m14,m23,m24,m34)\n",
    "    #fourth step\n",
    "    average_k_dv1 = (1.0/6.0)*(k1_dv1 + 2.0*k2_dv1 + 2.0*k3_dv1 + k4_dv1)\n",
    "    average_k_dv2 = (1.0/6.0)*(k1_dv2 + 2.0*k2_dv2 + 2.0*k3_dv2 + k4_dv2)\n",
    "    average_k_dv3 = (1.0/6.0)*(k1_dv2 + 2.0*k2_dv2 + 2.0*k3_dv2 + k4_dv2)\n",
    "\n",
    "    t[i] = t[i-1] + h\n",
    "    x1[i] = x1[i-1] + h * average_k_dv1\n",
    "    x2[i] = x2[i-1] + h * average_k_dv2\n",
    "    x3[i] = x3[i-1] + h * average_k_dv3\n",
    "    x4[i] = x4[i-1] + h * average_k_dv4\n",
    "    "
   ]
  },
  {
   "cell_type": "code",
   "execution_count": null,
   "metadata": {
    "collapsed": true
   },
   "outputs": [],
   "source": [
    "#Código para sacar el valor de a\n",
    "#pos 1 y pos2 son arrays para un período y dos períodos correspondientemente.\n",
    "#Se pretende compara\n",
    "\n",
    "tim=linspace(0.70,0.78,50)\n",
    "for i in range (len(tim)):\n",
    "    pos1=runge(t1,a)\n",
    "    pos2=runge(t2,a)\n",
    "    diferencias=pos1[i]-pos[i]\n",
    "plt.plot(tim,diferencias)"
   ]
  },
  {
   "cell_type": "markdown",
   "metadata": {},
   "source": [
    "Con la gráfica se pueden establecer los mínimos en donde a es 0. HAciendo una interpolación de puede encontrar el valor con tres cifras significativas de a. "
   ]
  },
  {
   "cell_type": "code",
   "execution_count": null,
   "metadata": {
    "collapsed": true
   },
   "outputs": [],
   "source": []
  }
 ],
 "metadata": {
  "kernelspec": {
   "display_name": "Python 2",
   "language": "python",
   "name": "python2"
  },
  "language_info": {
   "codemirror_mode": {
    "name": "ipython",
    "version": 2
   },
   "file_extension": ".py",
   "mimetype": "text/x-python",
   "name": "python",
   "nbconvert_exporter": "python",
   "pygments_lexer": "ipython2",
   "version": "2.7.10"
  }
 },
 "nbformat": 4,
 "nbformat_minor": 0
}
