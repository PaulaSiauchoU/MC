{
 "cells": [
  {
   "cell_type": "code",
   "execution_count": 60,
   "metadata": {
    "collapsed": false
   },
   "outputs": [
    {
     "name": "stdout",
     "output_type": "stream",
     "text": [
      "Populating the interactive namespace from numpy and matplotlib\n"
     ]
    },
    {
     "name": "stderr",
     "output_type": "stream",
     "text": [
      "WARNING: pylab import has clobbered these variables: ['prod', 'Circle', 'power', 'diag', 'sinh', 'trunc', 'binomial', 'plot', 'eye', 'det', 'tan', 'product', 'roots', 'vectorize', 'sin', 'plotting', 'zeros', 'cosh', 'conjugate', 'take', 'trace', 'beta', 'ones', 'transpose', 'cos', 'interactive', 'solve', 'diff', 'invert', 'tanh', 'Polygon', 'reshape', 'sqrt', 'floor', 'source', 'add', 'multinomial', 'test', 'poly', 'mod', 'sign', 'gamma', 'log', 'var', 'seterr', 'flatten', 'nan', 'pi', 'exp']\n",
      "`%matplotlib` prevents importing * from pylab and numpy\n"
     ]
    }
   ],
   "source": [
    "%pylab inline\n",
    "import numpy as np\n",
    "import matplotlib as mpl\n",
    "import matplotlib.pyplot as plt\n",
    "%matplotlib inline\n",
    "from sympy import*\n",
    "init_printing(use_unicode=True)"
   ]
  },
  {
   "cell_type": "code",
   "execution_count": 36,
   "metadata": {
    "collapsed": false
   },
   "outputs": [],
   "source": [
    "#Defino la función que me recibe como parámetro \n",
    "#Defino los símbolos para poder resolver el polinomio\n",
    "#De creación empírica uso el polinomio de Adam-Basforth (Con inspiración de un HandsON realizado en clase) \n",
    "#Defino las variables T1 y T2 con la herramienta var\n",
    "\n",
    "init_printing(use_unicode=True)\n",
    "\n",
    "def Lagrange(Num):\n",
    "    fu=0\n",
    "    #f=var('f')\n",
    "    t=var('t')\n",
    "    for i in range(Num):\n",
    "        nn=1\n",
    "        for j in range(Num):\n",
    "            if i != j:\n",
    "                t1 = var('t%d'%j)\n",
    "                t2 = var('t%d'%i)\n",
    "                nn *= ((t - t1)/(t2 - t1))\n",
    "        fu+=nn*var('f%d'%i)\n",
    "    return fu"
   ]
  },
  {
   "cell_type": "code",
   "execution_count": 37,
   "metadata": {
    "collapsed": false
   },
   "outputs": [
    {
     "data": {
      "image/png": "[encoded data removed]",
      "text/latex": [
       "$$0$$"
      ],
      "text/plain": [
       "0"
      ]
     },
     "execution_count": 37,
     "metadata": {},
     "output_type": "execute_result"
    }
   ],
   "source": [
    "#Función de orden cero (0)\n",
    "Lagrange(0)"
   ]
  },
  {
   "cell_type": "code",
   "execution_count": 38,
   "metadata": {
    "collapsed": false
   },
   "outputs": [
    {
     "data": {
      "image/png": "[encoded data removed]",
      "text/latex": [
       "$$f_{0}$$"
      ],
      "text/plain": [
       "f₀"
      ]
     },
     "execution_count": 38,
     "metadata": {},
     "output_type": "execute_result"
    }
   ],
   "source": [
    "\n",
    "#Función de orden primero (1)\n",
    "Lagrange(1)"
   ]
  },
  {
   "cell_type": "code",
   "execution_count": 39,
   "metadata": {
    "collapsed": false
   },
   "outputs": [
    {
     "data": {
      "image/png": "[encoded data removed]",
      "text/latex": [
       "$$\\frac{f_{0} \\left(t - t_{1}\\right)}{t_{0} - t_{1}} + \\frac{f_{1} \\left(t - t_{0}\\right)}{- t_{0} + t_{1}}$$"
      ],
      "text/plain": [
       "f₀⋅(t - t₁)   f₁⋅(t - t₀)\n",
       "─────────── + ───────────\n",
       "  t₀ - t₁       -t₀ + t₁ "
      ]
     },
     "execution_count": 39,
     "metadata": {},
     "output_type": "execute_result"
    }
   ],
   "source": [
    "#Función de orden dos (2)\n",
    "Lagrange(2)"
   ]
  },
  {
   "cell_type": "code",
   "execution_count": 40,
   "metadata": {
    "collapsed": false
   },
   "outputs": [
    {
     "data": {
      "image/png": "[encoded data removed]",
      "text/latex": [
       "$$\\frac{f_{0} \\left(t - t_{1}\\right) \\left(t - t_{2}\\right) \\left(t - t_{3}\\right)}{\\left(t_{0} - t_{1}\\right) \\left(t_{0} - t_{2}\\right) \\left(t_{0} - t_{3}\\right)} + \\frac{f_{1} \\left(t - t_{0}\\right) \\left(t - t_{2}\\right) \\left(t - t_{3}\\right)}{\\left(- t_{0} + t_{1}\\right) \\left(t_{1} - t_{2}\\right) \\left(t_{1} - t_{3}\\right)} + \\frac{f_{2} \\left(t - t_{0}\\right) \\left(t - t_{1}\\right) \\left(t - t_{3}\\right)}{\\left(- t_{0} + t_{2}\\right) \\left(- t_{1} + t_{2}\\right) \\left(t_{2} - t_{3}\\right)} + \\frac{f_{3} \\left(t - t_{0}\\right) \\left(t - t_{1}\\right) \\left(t - t_{2}\\right)}{\\left(- t_{0} + t_{3}\\right) \\left(- t_{1} + t_{3}\\right) \\left(- t_{2} + t_{3}\\right)}$$"
      ],
      "text/plain": [
       "f₀⋅(t - t₁)⋅(t - t₂)⋅(t - t₃)   f₁⋅(t - t₀)⋅(t - t₂)⋅(t - t₃)     f₂⋅(t - t₀)⋅\n",
       "───────────────────────────── + ────────────────────────────── + ─────────────\n",
       "(t₀ - t₁)⋅(t₀ - t₂)⋅(t₀ - t₃)   (-t₀ + t₁)⋅(t₁ - t₂)⋅(t₁ - t₃)   (-t₀ + t₂)⋅(-\n",
       "\n",
       "(t - t₁)⋅(t - t₃)     f₃⋅(t - t₀)⋅(t - t₁)⋅(t - t₂)  \n",
       "────────────────── + ────────────────────────────────\n",
       "t₁ + t₂)⋅(t₂ - t₃)   (-t₀ + t₃)⋅(-t₁ + t₃)⋅(-t₂ + t₃)"
      ]
     },
     "execution_count": 40,
     "metadata": {},
     "output_type": "execute_result"
    }
   ],
   "source": [
    "#Función de orden cuatro (4)\n",
    "Lagrange(4)"
   ]
  },
  {
   "cell_type": "markdown",
   "metadata": {},
   "source": [
    "#b)Adams"
   ]
  },
  {
   "cell_type": "code",
   "execution_count": 41,
   "metadata": {
    "collapsed": true
   },
   "outputs": [],
   "source": [
    "#Defino la función de adams\n",
    "#Defino las variables con la ayuda de SYmbols y un arreglo de SYmbols para ir generando el for \n",
    "#Traigo mi función Lagrange como mi polinomio\n",
    "#Con la ayuda de subs voy reescribiendo el polinomio\n",
    "\n",
    "init_printing(use_unicode=True)\n",
    "\n",
    "\n",
    "def Adams(Num):\n",
    "    \n",
    "    Polinomio=Lagrange(Num)\n",
    "    t=symbols('t')\n",
    "    arraySim=symarray('t', Num) \n",
    "    h=symbols('h') \n",
    "    \n",
    "    for i in range(Num):\n",
    "        \n",
    "        Polinomio = Polinomio.subs(arraySim[i],arraySim[0]-i*h)\n",
    "        integral=simplify(integrate(Polinomio,(t,arraySim[0],(arraySim[0]+h))))\n",
    "        \n",
    "    return integral"
   ]
  },
  {
   "cell_type": "code",
   "execution_count": 42,
   "metadata": {
    "collapsed": false
   },
   "outputs": [
    {
     "data": {
      "image/png": "[encoded data removed]",
      "text/latex": [
       "$$f_{0} h$$"
      ],
      "text/plain": [
       "f₀⋅h"
      ]
     },
     "execution_count": 42,
     "metadata": {},
     "output_type": "execute_result"
    }
   ],
   "source": [
    "#Función de orden uno (1)\n",
    "Adams(1)"
   ]
  },
  {
   "cell_type": "markdown",
   "metadata": {},
   "source": [
    "#Punto 2\n",
    "##Potencial Gravitacional"
   ]
  },
  {
   "cell_type": "code",
   "execution_count": 46,
   "metadata": {
    "collapsed": false
   },
   "outputs": [
    {
     "name": "stdout",
     "output_type": "stream",
     "text": [
      "10\n"
     ]
    }
   ],
   "source": [
    "#Definimos todas las constantes necesarias\n",
    "#Densidad las unidad son (Kg/cm3)\n",
    "#La unidad del lado del cubo esta en (m)\n",
    "#Todas las unidades de as constantes se encuentran en SI (Sistema Internacional)\n",
    "\n",
    "M=30 #Masa en kg\n",
    "Ro=400.\n",
    "\n",
    "Lado=270\n",
    "\n",
    "e0=8.85e-12 \n",
    "\n",
    "q=1e-2 \n",
    "\n",
    "xmin=-Lado/2\n",
    "\n",
    "xmax= Lado/2\n",
    "\n",
    "ymin=-Lado/2\n",
    "\n",
    "ymax= Lado/2\n",
    "\n",
    "zmin=-Lado/2\n",
    "\n",
    "zmax=Lado/2\n",
    "\n",
    "NumIter=10\n",
    "\n",
    "G=6.674e-11\n",
    "\n",
    "Nl=((xmax*2)/30) +1\n",
    "\n",
    "print Nl"
   ]
  },
  {
   "cell_type": "code",
   "execution_count": 48,
   "metadata": {
    "collapsed": false
   },
   "outputs": [
    {
     "name": "stdout",
     "output_type": "stream",
     "text": [
      "10\n",
      "10\n",
      "[]\n"
     ]
    }
   ],
   "source": [
    "#Declaro las coordenadas en las tres dimesiones\n",
    "#Creo los mesgrid de cada coordenada (x y z)\n",
    "#La variable que se llama constante pertenece al potencial gravitacional\n",
    "#Creo el cuadrado con la ayuda de np.ones y np.zeros\n",
    "#Mi cubo es de 10x10x10 y esta fijado en el centro de la malla de 100x100x100\n",
    "\n",
    "xx=np.linspace(xmin,xmax,Nl)\n",
    "yy=np.linspace(ymin,ymax,Nl) \n",
    "zz=np.linspace(zmin,zmax, Nl)\n",
    "\n",
    "x,y,z=np.meshgrid(xx,yy,zz)\n",
    "\n",
    "dx=(xmax-xmin)/Nl\n",
    "dy=(ymax-ymin)/Nl\n",
    "dz=(zmax-zmin)/Nl\n",
    "\n",
    "constante=Ro*np.pi*4*G\n",
    "\n",
    "densidad=np.zeros((Nl,Nl,Nl))\n",
    "\n",
    "cuadrado = np.ones((10,10,10))\n",
    "cuadradoEn400= cuadrado*constante\n",
    "cuafradoF=np.array(cuadradoEn400*4.*pi*G*M**2)\n",
    "\n",
    "#densidad[45:55,45:55,45:55] = cuadradoEn400\n",
    "\n",
    "\n",
    "densidadf=np.array(cuadradoEn400*4.*pi*G*M**2)\n",
    "print len(densidadf)\n",
    "print len(cuadrado)\n",
    "print densidadf[44:50,44:50,44:50]"
   ]
  },
  {
   "cell_type": "code",
   "execution_count": 49,
   "metadata": {
    "collapsed": false
   },
   "outputs": [
    {
     "name": "stdout",
     "output_type": "stream",
     "text": [
      "[[[ -3.08258856e-06  -3.30809118e-06  -3.51396875e-06  -3.67468946e-06\n",
      "    -3.76378578e-06  -3.76378578e-06  -3.67468946e-06  -3.51396875e-06\n",
      "    -3.30809118e-06  -3.08258856e-06]\n",
      "  [ -3.30809118e-06  -3.59163490e-06  -3.85969378e-06  -4.07578530e-06\n",
      "    -4.19839263e-06  -4.19839263e-06  -4.07578530e-06  -3.85969378e-06\n",
      "    -3.59163490e-06  -3.30809118e-06]\n",
      "  [ -3.51396875e-06  -3.85969378e-06  -4.19839263e-06  -4.48094670e-06\n",
      "    -4.64543952e-06  -4.64543952e-06  -4.48094670e-06  -4.19839263e-06\n",
      "    -3.85969378e-06  -3.51396875e-06]\n",
      "  [ -3.67468946e-06  -4.07578530e-06  -4.48094670e-06  -4.82948811e-06\n",
      "    -5.03730216e-06  -5.03730216e-06  -4.82948811e-06  -4.48094670e-06\n",
      "    -4.07578530e-06  -3.67468946e-06]\n",
      "  [ -3.76378578e-06  -4.19839263e-06  -4.64543952e-06  -5.03730216e-06\n",
      "    -5.27448003e-06  -5.27448003e-06  -5.03730216e-06  -4.64543952e-06\n",
      "    -4.19839263e-06  -3.76378578e-06]\n",
      "  [ -3.76378578e-06  -4.19839263e-06  -4.64543952e-06  -5.03730216e-06\n",
      "    -5.27448003e-06  -5.27448003e-06  -5.03730216e-06  -4.64543952e-06\n",
      "    -4.19839263e-06  -3.76378578e-06]\n",
      "  [ -3.67468946e-06  -4.07578530e-06  -4.48094670e-06  -4.82948811e-06\n",
      "    -5.03730216e-06  -5.03730216e-06  -4.82948811e-06  -4.48094670e-06\n",
      "    -4.07578530e-06  -3.67468946e-06]\n",
      "  [ -3.51396875e-06  -3.85969378e-06  -4.19839263e-06  -4.48094670e-06\n",
      "    -4.64543952e-06  -4.64543952e-06  -4.48094670e-06  -4.19839263e-06\n",
      "    -3.85969378e-06  -3.51396875e-06]\n",
      "  [ -3.30809118e-06  -3.59163490e-06  -3.85969378e-06  -4.07578530e-06\n",
      "    -4.19839263e-06  -4.19839263e-06  -4.07578530e-06  -3.85969378e-06\n",
      "    -3.59163490e-06  -3.30809118e-06]\n",
      "  [ -3.08258856e-06  -3.30809118e-06  -3.51396875e-06  -3.67468946e-06\n",
      "    -3.76378578e-06  -3.76378578e-06  -3.67468946e-06  -3.51396875e-06\n",
      "    -3.30809118e-06  -3.08258856e-06]]\n",
      "\n",
      " [[ -3.30809118e-06  -3.59163490e-06  -3.85969378e-06  -4.07578530e-06\n",
      "    -4.19839263e-06  -4.19839263e-06  -4.07578530e-06  -3.85969378e-06\n",
      "    -3.59163490e-06  -3.30809118e-06]\n",
      "  [ -3.59163490e-06  -3.96332815e-06  -4.33277506e-06  -4.64543952e-06\n",
      "    -4.82948811e-06  -4.82948811e-06  -4.64543952e-06  -4.33277506e-06\n",
      "    -3.96332815e-06  -3.59163490e-06]\n",
      "  [ -3.85969378e-06  -4.33277506e-06  -4.82948811e-06  -5.27448003e-06\n",
      "    -5.54865940e-06  -5.54865940e-06  -5.27448003e-06  -4.82948811e-06\n",
      "    -4.33277506e-06  -3.85969378e-06]\n",
      "  [ -4.07578530e-06  -4.64543952e-06  -5.27448003e-06  -5.87058388e-06\n",
      "    -6.25594170e-06  -6.25594170e-06  -5.87058388e-06  -5.27448003e-06\n",
      "    -4.64543952e-06  -4.07578530e-06]\n",
      "  [ -4.19839263e-06  -4.82948811e-06  -5.54865940e-06  -6.25594170e-06\n",
      "    -6.72873788e-06  -6.72873788e-06  -6.25594170e-06  -5.54865940e-06\n",
      "    -4.82948811e-06  -4.19839263e-06]\n",
      "  [ -4.19839263e-06  -4.82948811e-06  -5.54865940e-06  -6.25594170e-06\n",
      "    -6.72873788e-06  -6.72873788e-06  -6.25594170e-06  -5.54865940e-06\n",
      "    -4.82948811e-06  -4.19839263e-06]\n",
      "  [ -4.07578530e-06  -4.64543952e-06  -5.27448003e-06  -5.87058388e-06\n",
      "    -6.25594170e-06  -6.25594170e-06  -5.87058388e-06  -5.27448003e-06\n",
      "    -4.64543952e-06  -4.07578530e-06]\n",
      "  [ -3.85969378e-06  -4.33277506e-06  -4.82948811e-06  -5.27448003e-06\n",
      "    -5.54865940e-06  -5.54865940e-06  -5.27448003e-06  -4.82948811e-06\n",
      "    -4.33277506e-06  -3.85969378e-06]\n",
      "  [ -3.59163490e-06  -3.96332815e-06  -4.33277506e-06  -4.64543952e-06\n",
      "    -4.82948811e-06  -4.82948811e-06  -4.64543952e-06  -4.33277506e-06\n",
      "    -3.96332815e-06  -3.59163490e-06]\n",
      "  [ -3.30809118e-06  -3.59163490e-06  -3.85969378e-06  -4.07578530e-06\n",
      "    -4.19839263e-06  -4.19839263e-06  -4.07578530e-06  -3.85969378e-06\n",
      "    -3.59163490e-06  -3.30809118e-06]]\n",
      "\n",
      " [[ -3.51396875e-06  -3.85969378e-06  -4.19839263e-06  -4.48094670e-06\n",
      "    -4.64543952e-06  -4.64543952e-06  -4.48094670e-06  -4.19839263e-06\n",
      "    -3.85969378e-06  -3.51396875e-06]\n",
      "  [ -3.85969378e-06  -4.33277506e-06  -4.82948811e-06  -5.27448003e-06\n",
      "    -5.54865940e-06  -5.54865940e-06  -5.27448003e-06  -4.82948811e-06\n",
      "    -4.33277506e-06  -3.85969378e-06]\n",
      "  [ -4.19839263e-06  -4.82948811e-06  -5.54865940e-06  -6.25594170e-06\n",
      "    -6.72873788e-06  -6.72873788e-06  -6.25594170e-06  -5.54865940e-06\n",
      "    -4.82948811e-06  -4.19839263e-06]\n",
      "  [ -4.48094670e-06  -5.27448003e-06  -6.25594170e-06  -7.32798330e-06\n",
      "    -8.12240567e-06  -8.12240567e-06  -7.32798330e-06  -6.25594170e-06\n",
      "    -5.27448003e-06  -4.48094670e-06]\n",
      "  [ -4.64543952e-06  -5.54865940e-06  -6.72873788e-06  -8.12240567e-06\n",
      "    -9.24776567e-06  -9.24776567e-06  -8.12240567e-06  -6.72873788e-06\n",
      "    -5.54865940e-06  -4.64543952e-06]\n",
      "  [ -4.64543952e-06  -5.54865940e-06  -6.72873788e-06  -8.12240567e-06\n",
      "    -9.24776567e-06  -9.24776567e-06  -8.12240567e-06  -6.72873788e-06\n",
      "    -5.54865940e-06  -4.64543952e-06]\n",
      "  [ -4.48094670e-06  -5.27448003e-06  -6.25594170e-06  -7.32798330e-06\n",
      "    -8.12240567e-06  -8.12240567e-06  -7.32798330e-06  -6.25594170e-06\n",
      "    -5.27448003e-06  -4.48094670e-06]\n",
      "  [ -4.19839263e-06  -4.82948811e-06  -5.54865940e-06  -6.25594170e-06\n",
      "    -6.72873788e-06  -6.72873788e-06  -6.25594170e-06  -5.54865940e-06\n",
      "    -4.82948811e-06  -4.19839263e-06]\n",
      "  [ -3.85969378e-06  -4.33277506e-06  -4.82948811e-06  -5.27448003e-06\n",
      "    -5.54865940e-06  -5.54865940e-06  -5.27448003e-06  -4.82948811e-06\n",
      "    -4.33277506e-06  -3.85969378e-06]\n",
      "  [ -3.51396875e-06  -3.85969378e-06  -4.19839263e-06  -4.48094670e-06\n",
      "    -4.64543952e-06  -4.64543952e-06  -4.48094670e-06  -4.19839263e-06\n",
      "    -3.85969378e-06  -3.51396875e-06]]\n",
      "\n",
      " [[ -3.67468946e-06  -4.07578530e-06  -4.48094670e-06  -4.82948811e-06\n",
      "    -5.03730216e-06  -5.03730216e-06  -4.82948811e-06  -4.48094670e-06\n",
      "    -4.07578530e-06  -3.67468946e-06]\n",
      "  [ -4.07578530e-06  -4.64543952e-06  -5.27448003e-06  -5.87058388e-06\n",
      "    -6.25594170e-06  -6.25594170e-06  -5.87058388e-06  -5.27448003e-06\n",
      "    -4.64543952e-06  -4.07578530e-06]\n",
      "  [ -4.48094670e-06  -5.27448003e-06  -6.25594170e-06  -7.32798330e-06\n",
      "    -8.12240567e-06  -8.12240567e-06  -7.32798330e-06  -6.25594170e-06\n",
      "    -5.27448003e-06  -4.48094670e-06]\n",
      "  [ -4.82948811e-06  -5.87058388e-06  -7.32798330e-06  -9.24776567e-06\n",
      "    -1.10240684e-05  -1.10240684e-05  -9.24776567e-06  -7.32798330e-06\n",
      "    -5.87058388e-06  -4.82948811e-06]\n",
      "  [ -5.03730216e-06  -6.25594170e-06  -8.12240567e-06  -1.10240684e-05\n",
      "    -1.44884643e-05  -1.44884643e-05  -1.10240684e-05  -8.12240567e-06\n",
      "    -6.25594170e-06  -5.03730216e-06]\n",
      "  [ -5.03730216e-06  -6.25594170e-06  -8.12240567e-06  -1.10240684e-05\n",
      "    -1.44884643e-05  -1.44884643e-05  -1.10240684e-05  -8.12240567e-06\n",
      "    -6.25594170e-06  -5.03730216e-06]\n",
      "  [ -4.82948811e-06  -5.87058388e-06  -7.32798330e-06  -9.24776567e-06\n",
      "    -1.10240684e-05  -1.10240684e-05  -9.24776567e-06  -7.32798330e-06\n",
      "    -5.87058388e-06  -4.82948811e-06]\n",
      "  [ -4.48094670e-06  -5.27448003e-06  -6.25594170e-06  -7.32798330e-06\n",
      "    -8.12240567e-06  -8.12240567e-06  -7.32798330e-06  -6.25594170e-06\n",
      "    -5.27448003e-06  -4.48094670e-06]\n",
      "  [ -4.07578530e-06  -4.64543952e-06  -5.27448003e-06  -5.87058388e-06\n",
      "    -6.25594170e-06  -6.25594170e-06  -5.87058388e-06  -5.27448003e-06\n",
      "    -4.64543952e-06  -4.07578530e-06]\n",
      "  [ -3.67468946e-06  -4.07578530e-06  -4.48094670e-06  -4.82948811e-06\n",
      "    -5.03730216e-06  -5.03730216e-06  -4.82948811e-06  -4.48094670e-06\n",
      "    -4.07578530e-06  -3.67468946e-06]]\n",
      "\n",
      " [[ -3.76378578e-06  -4.19839263e-06  -4.64543952e-06  -5.03730216e-06\n",
      "    -5.27448003e-06  -5.27448003e-06  -5.03730216e-06  -4.64543952e-06\n",
      "    -4.19839263e-06  -3.76378578e-06]\n",
      "  [ -4.19839263e-06  -4.82948811e-06  -5.54865940e-06  -6.25594170e-06\n",
      "    -6.72873788e-06  -6.72873788e-06  -6.25594170e-06  -5.54865940e-06\n",
      "    -4.82948811e-06  -4.19839263e-06]\n",
      "  [ -4.64543952e-06  -5.54865940e-06  -6.72873788e-06  -8.12240567e-06\n",
      "    -9.24776567e-06  -9.24776567e-06  -8.12240567e-06  -6.72873788e-06\n",
      "    -5.54865940e-06  -4.64543952e-06]\n",
      "  [ -5.03730216e-06  -6.25594170e-06  -8.12240567e-06  -1.10240684e-05\n",
      "    -1.44884643e-05  -1.44884643e-05  -1.10240684e-05  -8.12240567e-06\n",
      "    -6.25594170e-06  -5.03730216e-06]\n",
      "  [ -5.27448003e-06  -6.72873788e-06  -9.24776567e-06  -1.44884643e-05\n",
      "    -2.77432970e-05  -2.77432970e-05  -1.44884643e-05  -9.24776567e-06\n",
      "    -6.72873788e-06  -5.27448003e-06]\n",
      "  [ -5.27448003e-06  -6.72873788e-06  -9.24776567e-06  -1.44884643e-05\n",
      "    -2.77432970e-05  -2.77432970e-05  -1.44884643e-05  -9.24776567e-06\n",
      "    -6.72873788e-06  -5.27448003e-06]\n",
      "  [ -5.03730216e-06  -6.25594170e-06  -8.12240567e-06  -1.10240684e-05\n",
      "    -1.44884643e-05  -1.44884643e-05  -1.10240684e-05  -8.12240567e-06\n",
      "    -6.25594170e-06  -5.03730216e-06]\n",
      "  [ -4.64543952e-06  -5.54865940e-06  -6.72873788e-06  -8.12240567e-06\n",
      "    -9.24776567e-06  -9.24776567e-06  -8.12240567e-06  -6.72873788e-06\n",
      "    -5.54865940e-06  -4.64543952e-06]\n",
      "  [ -4.19839263e-06  -4.82948811e-06  -5.54865940e-06  -6.25594170e-06\n",
      "    -6.72873788e-06  -6.72873788e-06  -6.25594170e-06  -5.54865940e-06\n",
      "    -4.82948811e-06  -4.19839263e-06]\n",
      "  [ -3.76378578e-06  -4.19839263e-06  -4.64543952e-06  -5.03730216e-06\n",
      "    -5.27448003e-06  -5.27448003e-06  -5.03730216e-06  -4.64543952e-06\n",
      "    -4.19839263e-06  -3.76378578e-06]]\n",
      "\n",
      " [[ -3.76378578e-06  -4.19839263e-06  -4.64543952e-06  -5.03730216e-06\n",
      "    -5.27448003e-06  -5.27448003e-06  -5.03730216e-06  -4.64543952e-06\n",
      "    -4.19839263e-06  -3.76378578e-06]\n",
      "  [ -4.19839263e-06  -4.82948811e-06  -5.54865940e-06  -6.25594170e-06\n",
      "    -6.72873788e-06  -6.72873788e-06  -6.25594170e-06  -5.54865940e-06\n",
      "    -4.82948811e-06  -4.19839263e-06]\n",
      "  [ -4.64543952e-06  -5.54865940e-06  -6.72873788e-06  -8.12240567e-06\n",
      "    -9.24776567e-06  -9.24776567e-06  -8.12240567e-06  -6.72873788e-06\n",
      "    -5.54865940e-06  -4.64543952e-06]\n",
      "  [ -5.03730216e-06  -6.25594170e-06  -8.12240567e-06  -1.10240684e-05\n",
      "    -1.44884643e-05  -1.44884643e-05  -1.10240684e-05  -8.12240567e-06\n",
      "    -6.25594170e-06  -5.03730216e-06]\n",
      "  [ -5.27448003e-06  -6.72873788e-06  -9.24776567e-06  -1.44884643e-05\n",
      "    -2.77432970e-05  -2.77432970e-05  -1.44884643e-05  -9.24776567e-06\n",
      "    -6.72873788e-06  -5.27448003e-06]\n",
      "  [ -5.27448003e-06  -6.72873788e-06  -9.24776567e-06  -1.44884643e-05\n",
      "    -2.77432970e-05  -2.77432970e-05  -1.44884643e-05  -9.24776567e-06\n",
      "    -6.72873788e-06  -5.27448003e-06]\n",
      "  [ -5.03730216e-06  -6.25594170e-06  -8.12240567e-06  -1.10240684e-05\n",
      "    -1.44884643e-05  -1.44884643e-05  -1.10240684e-05  -8.12240567e-06\n",
      "    -6.25594170e-06  -5.03730216e-06]\n",
      "  [ -4.64543952e-06  -5.54865940e-06  -6.72873788e-06  -8.12240567e-06\n",
      "    -9.24776567e-06  -9.24776567e-06  -8.12240567e-06  -6.72873788e-06\n",
      "    -5.54865940e-06  -4.64543952e-06]\n",
      "  [ -4.19839263e-06  -4.82948811e-06  -5.54865940e-06  -6.25594170e-06\n",
      "    -6.72873788e-06  -6.72873788e-06  -6.25594170e-06  -5.54865940e-06\n",
      "    -4.82948811e-06  -4.19839263e-06]\n",
      "  [ -3.76378578e-06  -4.19839263e-06  -4.64543952e-06  -5.03730216e-06\n",
      "    -5.27448003e-06  -5.27448003e-06  -5.03730216e-06  -4.64543952e-06\n",
      "    -4.19839263e-06  -3.76378578e-06]]\n",
      "\n",
      " [[ -3.67468946e-06  -4.07578530e-06  -4.48094670e-06  -4.82948811e-06\n",
      "    -5.03730216e-06  -5.03730216e-06  -4.82948811e-06  -4.48094670e-06\n",
      "    -4.07578530e-06  -3.67468946e-06]\n",
      "  [ -4.07578530e-06  -4.64543952e-06  -5.27448003e-06  -5.87058388e-06\n",
      "    -6.25594170e-06  -6.25594170e-06  -5.87058388e-06  -5.27448003e-06\n",
      "    -4.64543952e-06  -4.07578530e-06]\n",
      "  [ -4.48094670e-06  -5.27448003e-06  -6.25594170e-06  -7.32798330e-06\n",
      "    -8.12240567e-06  -8.12240567e-06  -7.32798330e-06  -6.25594170e-06\n",
      "    -5.27448003e-06  -4.48094670e-06]\n",
      "  [ -4.82948811e-06  -5.87058388e-06  -7.32798330e-06  -9.24776567e-06\n",
      "    -1.10240684e-05  -1.10240684e-05  -9.24776567e-06  -7.32798330e-06\n",
      "    -5.87058388e-06  -4.82948811e-06]\n",
      "  [ -5.03730216e-06  -6.25594170e-06  -8.12240567e-06  -1.10240684e-05\n",
      "    -1.44884643e-05  -1.44884643e-05  -1.10240684e-05  -8.12240567e-06\n",
      "    -6.25594170e-06  -5.03730216e-06]\n",
      "  [ -5.03730216e-06  -6.25594170e-06  -8.12240567e-06  -1.10240684e-05\n",
      "    -1.44884643e-05  -1.44884643e-05  -1.10240684e-05  -8.12240567e-06\n",
      "    -6.25594170e-06  -5.03730216e-06]\n",
      "  [ -4.82948811e-06  -5.87058388e-06  -7.32798330e-06  -9.24776567e-06\n",
      "    -1.10240684e-05  -1.10240684e-05  -9.24776567e-06  -7.32798330e-06\n",
      "    -5.87058388e-06  -4.82948811e-06]\n",
      "  [ -4.48094670e-06  -5.27448003e-06  -6.25594170e-06  -7.32798330e-06\n",
      "    -8.12240567e-06  -8.12240567e-06  -7.32798330e-06  -6.25594170e-06\n",
      "    -5.27448003e-06  -4.48094670e-06]\n",
      "  [ -4.07578530e-06  -4.64543952e-06  -5.27448003e-06  -5.87058388e-06\n",
      "    -6.25594170e-06  -6.25594170e-06  -5.87058388e-06  -5.27448003e-06\n",
      "    -4.64543952e-06  -4.07578530e-06]\n",
      "  [ -3.67468946e-06  -4.07578530e-06  -4.48094670e-06  -4.82948811e-06\n",
      "    -5.03730216e-06  -5.03730216e-06  -4.82948811e-06  -4.48094670e-06\n",
      "    -4.07578530e-06  -3.67468946e-06]]\n",
      "\n",
      " [[ -3.51396875e-06  -3.85969378e-06  -4.19839263e-06  -4.48094670e-06\n",
      "    -4.64543952e-06  -4.64543952e-06  -4.48094670e-06  -4.19839263e-06\n",
      "    -3.85969378e-06  -3.51396875e-06]\n",
      "  [ -3.85969378e-06  -4.33277506e-06  -4.82948811e-06  -5.27448003e-06\n",
      "    -5.54865940e-06  -5.54865940e-06  -5.27448003e-06  -4.82948811e-06\n",
      "    -4.33277506e-06  -3.85969378e-06]\n",
      "  [ -4.19839263e-06  -4.82948811e-06  -5.54865940e-06  -6.25594170e-06\n",
      "    -6.72873788e-06  -6.72873788e-06  -6.25594170e-06  -5.54865940e-06\n",
      "    -4.82948811e-06  -4.19839263e-06]\n",
      "  [ -4.48094670e-06  -5.27448003e-06  -6.25594170e-06  -7.32798330e-06\n",
      "    -8.12240567e-06  -8.12240567e-06  -7.32798330e-06  -6.25594170e-06\n",
      "    -5.27448003e-06  -4.48094670e-06]\n",
      "  [ -4.64543952e-06  -5.54865940e-06  -6.72873788e-06  -8.12240567e-06\n",
      "    -9.24776567e-06  -9.24776567e-06  -8.12240567e-06  -6.72873788e-06\n",
      "    -5.54865940e-06  -4.64543952e-06]\n",
      "  [ -4.64543952e-06  -5.54865940e-06  -6.72873788e-06  -8.12240567e-06\n",
      "    -9.24776567e-06  -9.24776567e-06  -8.12240567e-06  -6.72873788e-06\n",
      "    -5.54865940e-06  -4.64543952e-06]\n",
      "  [ -4.48094670e-06  -5.27448003e-06  -6.25594170e-06  -7.32798330e-06\n",
      "    -8.12240567e-06  -8.12240567e-06  -7.32798330e-06  -6.25594170e-06\n",
      "    -5.27448003e-06  -4.48094670e-06]\n",
      "  [ -4.19839263e-06  -4.82948811e-06  -5.54865940e-06  -6.25594170e-06\n",
      "    -6.72873788e-06  -6.72873788e-06  -6.25594170e-06  -5.54865940e-06\n",
      "    -4.82948811e-06  -4.19839263e-06]\n",
      "  [ -3.85969378e-06  -4.33277506e-06  -4.82948811e-06  -5.27448003e-06\n",
      "    -5.54865940e-06  -5.54865940e-06  -5.27448003e-06  -4.82948811e-06\n",
      "    -4.33277506e-06  -3.85969378e-06]\n",
      "  [ -3.51396875e-06  -3.85969378e-06  -4.19839263e-06  -4.48094670e-06\n",
      "    -4.64543952e-06  -4.64543952e-06  -4.48094670e-06  -4.19839263e-06\n",
      "    -3.85969378e-06  -3.51396875e-06]]\n",
      "\n",
      " [[ -3.30809118e-06  -3.59163490e-06  -3.85969378e-06  -4.07578530e-06\n",
      "    -4.19839263e-06  -4.19839263e-06  -4.07578530e-06  -3.85969378e-06\n",
      "    -3.59163490e-06  -3.30809118e-06]\n",
      "  [ -3.59163490e-06  -3.96332815e-06  -4.33277506e-06  -4.64543952e-06\n",
      "    -4.82948811e-06  -4.82948811e-06  -4.64543952e-06  -4.33277506e-06\n",
      "    -3.96332815e-06  -3.59163490e-06]\n",
      "  [ -3.85969378e-06  -4.33277506e-06  -4.82948811e-06  -5.27448003e-06\n",
      "    -5.54865940e-06  -5.54865940e-06  -5.27448003e-06  -4.82948811e-06\n",
      "    -4.33277506e-06  -3.85969378e-06]\n",
      "  [ -4.07578530e-06  -4.64543952e-06  -5.27448003e-06  -5.87058388e-06\n",
      "    -6.25594170e-06  -6.25594170e-06  -5.87058388e-06  -5.27448003e-06\n",
      "    -4.64543952e-06  -4.07578530e-06]\n",
      "  [ -4.19839263e-06  -4.82948811e-06  -5.54865940e-06  -6.25594170e-06\n",
      "    -6.72873788e-06  -6.72873788e-06  -6.25594170e-06  -5.54865940e-06\n",
      "    -4.82948811e-06  -4.19839263e-06]\n",
      "  [ -4.19839263e-06  -4.82948811e-06  -5.54865940e-06  -6.25594170e-06\n",
      "    -6.72873788e-06  -6.72873788e-06  -6.25594170e-06  -5.54865940e-06\n",
      "    -4.82948811e-06  -4.19839263e-06]\n",
      "  [ -4.07578530e-06  -4.64543952e-06  -5.27448003e-06  -5.87058388e-06\n",
      "    -6.25594170e-06  -6.25594170e-06  -5.87058388e-06  -5.27448003e-06\n",
      "    -4.64543952e-06  -4.07578530e-06]\n",
      "  [ -3.85969378e-06  -4.33277506e-06  -4.82948811e-06  -5.27448003e-06\n",
      "    -5.54865940e-06  -5.54865940e-06  -5.27448003e-06  -4.82948811e-06\n",
      "    -4.33277506e-06  -3.85969378e-06]\n",
      "  [ -3.59163490e-06  -3.96332815e-06  -4.33277506e-06  -4.64543952e-06\n",
      "    -4.82948811e-06  -4.82948811e-06  -4.64543952e-06  -4.33277506e-06\n",
      "    -3.96332815e-06  -3.59163490e-06]\n",
      "  [ -3.30809118e-06  -3.59163490e-06  -3.85969378e-06  -4.07578530e-06\n",
      "    -4.19839263e-06  -4.19839263e-06  -4.07578530e-06  -3.85969378e-06\n",
      "    -3.59163490e-06  -3.30809118e-06]]\n",
      "\n",
      " [[ -3.08258856e-06  -3.30809118e-06  -3.51396875e-06  -3.67468946e-06\n",
      "    -3.76378578e-06  -3.76378578e-06  -3.67468946e-06  -3.51396875e-06\n",
      "    -3.30809118e-06  -3.08258856e-06]\n",
      "  [ -3.30809118e-06  -3.59163490e-06  -3.85969378e-06  -4.07578530e-06\n",
      "    -4.19839263e-06  -4.19839263e-06  -4.07578530e-06  -3.85969378e-06\n",
      "    -3.59163490e-06  -3.30809118e-06]\n",
      "  [ -3.51396875e-06  -3.85969378e-06  -4.19839263e-06  -4.48094670e-06\n",
      "    -4.64543952e-06  -4.64543952e-06  -4.48094670e-06  -4.19839263e-06\n",
      "    -3.85969378e-06  -3.51396875e-06]\n",
      "  [ -3.67468946e-06  -4.07578530e-06  -4.48094670e-06  -4.82948811e-06\n",
      "    -5.03730216e-06  -5.03730216e-06  -4.82948811e-06  -4.48094670e-06\n",
      "    -4.07578530e-06  -3.67468946e-06]\n",
      "  [ -3.76378578e-06  -4.19839263e-06  -4.64543952e-06  -5.03730216e-06\n",
      "    -5.27448003e-06  -5.27448003e-06  -5.03730216e-06  -4.64543952e-06\n",
      "    -4.19839263e-06  -3.76378578e-06]\n",
      "  [ -3.76378578e-06  -4.19839263e-06  -4.64543952e-06  -5.03730216e-06\n",
      "    -5.27448003e-06  -5.27448003e-06  -5.03730216e-06  -4.64543952e-06\n",
      "    -4.19839263e-06  -3.76378578e-06]\n",
      "  [ -3.67468946e-06  -4.07578530e-06  -4.48094670e-06  -4.82948811e-06\n",
      "    -5.03730216e-06  -5.03730216e-06  -4.82948811e-06  -4.48094670e-06\n",
      "    -4.07578530e-06  -3.67468946e-06]\n",
      "  [ -3.51396875e-06  -3.85969378e-06  -4.19839263e-06  -4.48094670e-06\n",
      "    -4.64543952e-06  -4.64543952e-06  -4.48094670e-06  -4.19839263e-06\n",
      "    -3.85969378e-06  -3.51396875e-06]\n",
      "  [ -3.30809118e-06  -3.59163490e-06  -3.85969378e-06  -4.07578530e-06\n",
      "    -4.19839263e-06  -4.19839263e-06  -4.07578530e-06  -3.85969378e-06\n",
      "    -3.59163490e-06  -3.30809118e-06]\n",
      "  [ -3.08258856e-06  -3.30809118e-06  -3.51396875e-06  -3.67468946e-06\n",
      "    -3.76378578e-06  -3.76378578e-06  -3.67468946e-06  -3.51396875e-06\n",
      "    -3.30809118e-06  -3.08258856e-06]]]\n"
     ]
    }
   ],
   "source": [
    "#Se implementa el método de relación, inspirado en el cuaderno de Juan David Lizarazo\n",
    "X=x*x\n",
    "Y=y*y\n",
    "Z=z*z\n",
    "r=np.sqrt(X+Y+Z)\n",
    "#Se define el potencial\n",
    "Pot=-G*Ro*M**3/r\n",
    "print Pot\n",
    "for __ in range(NumIter):\n",
    "    Pot=1/6.*(np.roll(Pot,1,axis=0)+\n",
    "              np.roll(Pot,-1,axis=0)+\n",
    "              np.roll(Pot,1,axis=1)+\n",
    "              np.roll(Pot,-1,axis=1)+\n",
    "              np.roll(Pot,1,axis= 2)+\n",
    "              np.roll(Pot,-1,axis= 2)-\n",
    "              densidadf)\n",
    "    Pot[0]=0.\n",
    "    Pot[-1]=0.\n",
    "    Pot[:,0]=0.\n",
    "    Pot[:,-1]=0.\n",
    "    Pot[:,:,0]=0.\n",
    "    Pot[:,:,-1]=0."
   ]
  },
  {
   "cell_type": "code",
   "execution_count": 68,
   "metadata": {
    "collapsed": false,
    "scrolled": true
   },
   "outputs": [
    {
     "ename": "AttributeError",
     "evalue": "'Add' object has no attribute 'view'",
     "output_type": "error",
     "traceback": [
      "\u001b[1;31m---------------------------------------------------------------------------\u001b[0m",
      "\u001b[1;31mAttributeError\u001b[0m                            Traceback (most recent call last)",
      "\u001b[1;32m<ipython-input-68-6e0ea1df5fc7>\u001b[0m in \u001b[0;36m<module>\u001b[1;34m()\u001b[0m\n\u001b[0;32m      2\u001b[0m \u001b[0ma\u001b[0m\u001b[1;33m=\u001b[0m\u001b[0mplt\u001b[0m\u001b[1;33m.\u001b[0m\u001b[0mfigure\u001b[0m\u001b[1;33m(\u001b[0m\u001b[0mfigsize\u001b[0m\u001b[1;33m=\u001b[0m\u001b[1;33m(\u001b[0m\u001b[1;36m12\u001b[0m\u001b[1;33m,\u001b[0m\u001b[1;36m10\u001b[0m\u001b[1;33m)\u001b[0m\u001b[1;33m)\u001b[0m\u001b[1;33m\u001b[0m\u001b[0m\n\u001b[0;32m      3\u001b[0m \u001b[0max\u001b[0m\u001b[1;33m=\u001b[0m\u001b[0ma\u001b[0m\u001b[1;33m.\u001b[0m\u001b[0madd_subplot\u001b[0m\u001b[1;33m(\u001b[0m\u001b[1;36m111\u001b[0m\u001b[1;33m)\u001b[0m\u001b[1;33m\u001b[0m\u001b[0m\n\u001b[1;32m----> 4\u001b[1;33m \u001b[0ma\u001b[0m\u001b[1;33m.\u001b[0m\u001b[0mcolorbar\u001b[0m\u001b[1;33m(\u001b[0m\u001b[0max\u001b[0m\u001b[1;33m.\u001b[0m\u001b[0mpcolor\u001b[0m\u001b[1;33m(\u001b[0m\u001b[0mxx\u001b[0m\u001b[1;33m,\u001b[0m \u001b[0myy\u001b[0m\u001b[1;33m,\u001b[0m \u001b[1;36m80000\u001b[0m\u001b[1;33m*\u001b[0m\u001b[0mPot\u001b[0m\u001b[1;33m[\u001b[0m\u001b[0mNl\u001b[0m\u001b[1;33m/\u001b[0m\u001b[1;36m2\u001b[0m\u001b[1;33m]\u001b[0m\u001b[1;33m,\u001b[0m \u001b[0mcmap\u001b[0m\u001b[1;33m=\u001b[0m\u001b[1;34m'gist_heat'\u001b[0m\u001b[1;33m)\u001b[0m\u001b[1;33m)\u001b[0m\u001b[1;33m\u001b[0m\u001b[0m\n\u001b[0m\u001b[0;32m      5\u001b[0m \u001b[0mplt\u001b[0m\u001b[1;33m.\u001b[0m\u001b[0mclabel\u001b[0m\u001b[1;33m(\u001b[0m\u001b[0max\u001b[0m\u001b[1;33m.\u001b[0m\u001b[0mcontour\u001b[0m\u001b[1;33m(\u001b[0m\u001b[0mxx\u001b[0m\u001b[1;33m,\u001b[0m \u001b[0myy\u001b[0m\u001b[1;33m,\u001b[0m \u001b[1;36m80000\u001b[0m\u001b[1;33m*\u001b[0m\u001b[0mPot\u001b[0m\u001b[1;33m[\u001b[0m\u001b[0mNl\u001b[0m\u001b[1;33m/\u001b[0m\u001b[1;36m2\u001b[0m\u001b[1;33m]\u001b[0m\u001b[1;33m,\u001b[0m \u001b[0mlevels\u001b[0m\u001b[1;33m=\u001b[0m\u001b[1;33m[\u001b[0m\u001b[1;33m-\u001b[0m\u001b[1;36m16\u001b[0m\u001b[1;33m,\u001b[0m \u001b[1;36m40\u001b[0m\u001b[1;33m,\u001b[0m \u001b[1;33m-\u001b[0m\u001b[1;36m100\u001b[0m\u001b[1;33m,\u001b[0m\u001b[1;33m-\u001b[0m\u001b[1;36m200\u001b[0m\u001b[1;33m,\u001b[0m\u001b[1;33m-\u001b[0m\u001b[1;36m400\u001b[0m\u001b[1;33m,\u001b[0m\u001b[1;33m-\u001b[0m\u001b[1;36m800\u001b[0m\u001b[1;33m,\u001b[0m\u001b[1;33m-\u001b[0m\u001b[1;36m1600\u001b[0m\u001b[1;33m]\u001b[0m\u001b[1;33m,\u001b[0m\u001b[0mcolors\u001b[0m \u001b[1;33m=\u001b[0m \u001b[1;34m'k'\u001b[0m\u001b[1;33m)\u001b[0m\u001b[1;33m)\u001b[0m\u001b[1;33m\u001b[0m\u001b[0m\n\u001b[0;32m      6\u001b[0m \u001b[0mplt\u001b[0m\u001b[1;33m.\u001b[0m\u001b[0mshow\u001b[0m\u001b[1;33m(\u001b[0m\u001b[1;33m)\u001b[0m\u001b[1;33m\u001b[0m\u001b[0m\n",
      "\u001b[1;32m/home/paula/anaconda/lib/python2.7/site-packages/matplotlib/axes/_axes.pyc\u001b[0m in \u001b[0;36mpcolor\u001b[1;34m(self, *args, **kwargs)\u001b[0m\n\u001b[0;32m   4965\u001b[0m         \u001b[0mcollection\u001b[0m\u001b[1;33m.\u001b[0m\u001b[0mset_norm\u001b[0m\u001b[1;33m(\u001b[0m\u001b[0mnorm\u001b[0m\u001b[1;33m)\u001b[0m\u001b[1;33m\u001b[0m\u001b[0m\n\u001b[0;32m   4966\u001b[0m         \u001b[0mcollection\u001b[0m\u001b[1;33m.\u001b[0m\u001b[0mset_clim\u001b[0m\u001b[1;33m(\u001b[0m\u001b[0mvmin\u001b[0m\u001b[1;33m,\u001b[0m \u001b[0mvmax\u001b[0m\u001b[1;33m)\u001b[0m\u001b[1;33m\u001b[0m\u001b[0m\n\u001b[1;32m-> 4967\u001b[1;33m         \u001b[0mcollection\u001b[0m\u001b[1;33m.\u001b[0m\u001b[0mautoscale_None\u001b[0m\u001b[1;33m(\u001b[0m\u001b[1;33m)\u001b[0m\u001b[1;33m\u001b[0m\u001b[0m\n\u001b[0m\u001b[0;32m   4968\u001b[0m         \u001b[0mself\u001b[0m\u001b[1;33m.\u001b[0m\u001b[0mgrid\u001b[0m\u001b[1;33m(\u001b[0m\u001b[0mFalse\u001b[0m\u001b[1;33m)\u001b[0m\u001b[1;33m\u001b[0m\u001b[0m\n\u001b[0;32m   4969\u001b[0m \u001b[1;33m\u001b[0m\u001b[0m\n",
      "\u001b[1;32m/home/paula/anaconda/lib/python2.7/site-packages/matplotlib/cm.pyc\u001b[0m in \u001b[0;36mautoscale_None\u001b[1;34m(self)\u001b[0m\n\u001b[0;32m    333\u001b[0m         \u001b[1;32mif\u001b[0m \u001b[0mself\u001b[0m\u001b[1;33m.\u001b[0m\u001b[0m_A\u001b[0m \u001b[1;32mis\u001b[0m \u001b[0mNone\u001b[0m\u001b[1;33m:\u001b[0m\u001b[1;33m\u001b[0m\u001b[0m\n\u001b[0;32m    334\u001b[0m             \u001b[1;32mraise\u001b[0m \u001b[0mTypeError\u001b[0m\u001b[1;33m(\u001b[0m\u001b[1;34m'You must first set_array for mappable'\u001b[0m\u001b[1;33m)\u001b[0m\u001b[1;33m\u001b[0m\u001b[0m\n\u001b[1;32m--> 335\u001b[1;33m         \u001b[0mself\u001b[0m\u001b[1;33m.\u001b[0m\u001b[0mnorm\u001b[0m\u001b[1;33m.\u001b[0m\u001b[0mautoscale_None\u001b[0m\u001b[1;33m(\u001b[0m\u001b[0mself\u001b[0m\u001b[1;33m.\u001b[0m\u001b[0m_A\u001b[0m\u001b[1;33m)\u001b[0m\u001b[1;33m\u001b[0m\u001b[0m\n\u001b[0m\u001b[0;32m    336\u001b[0m         \u001b[0mself\u001b[0m\u001b[1;33m.\u001b[0m\u001b[0mchanged\u001b[0m\u001b[1;33m(\u001b[0m\u001b[1;33m)\u001b[0m\u001b[1;33m\u001b[0m\u001b[0m\n\u001b[0;32m    337\u001b[0m \u001b[1;33m\u001b[0m\u001b[0m\n",
      "\u001b[1;32m/home/paula/anaconda/lib/python2.7/site-packages/matplotlib/colors.pyc\u001b[0m in \u001b[0;36mautoscale_None\u001b[1;34m(self, A)\u001b[0m\n\u001b[0;32m    952\u001b[0m         \u001b[1;34m' autoscale only None-valued vmin or vmax'\u001b[0m\u001b[1;33m\u001b[0m\u001b[0m\n\u001b[0;32m    953\u001b[0m         \u001b[1;32mif\u001b[0m \u001b[0mself\u001b[0m\u001b[1;33m.\u001b[0m\u001b[0mvmin\u001b[0m \u001b[1;32mis\u001b[0m \u001b[0mNone\u001b[0m \u001b[1;32mand\u001b[0m \u001b[0mnp\u001b[0m\u001b[1;33m.\u001b[0m\u001b[0msize\u001b[0m\u001b[1;33m(\u001b[0m\u001b[0mA\u001b[0m\u001b[1;33m)\u001b[0m \u001b[1;33m>\u001b[0m \u001b[1;36m0\u001b[0m\u001b[1;33m:\u001b[0m\u001b[1;33m\u001b[0m\u001b[0m\n\u001b[1;32m--> 954\u001b[1;33m             \u001b[0mself\u001b[0m\u001b[1;33m.\u001b[0m\u001b[0mvmin\u001b[0m \u001b[1;33m=\u001b[0m \u001b[0mma\u001b[0m\u001b[1;33m.\u001b[0m\u001b[0mmin\u001b[0m\u001b[1;33m(\u001b[0m\u001b[0mA\u001b[0m\u001b[1;33m)\u001b[0m\u001b[1;33m\u001b[0m\u001b[0m\n\u001b[0m\u001b[0;32m    955\u001b[0m         \u001b[1;32mif\u001b[0m \u001b[0mself\u001b[0m\u001b[1;33m.\u001b[0m\u001b[0mvmax\u001b[0m \u001b[1;32mis\u001b[0m \u001b[0mNone\u001b[0m \u001b[1;32mand\u001b[0m \u001b[0mnp\u001b[0m\u001b[1;33m.\u001b[0m\u001b[0msize\u001b[0m\u001b[1;33m(\u001b[0m\u001b[0mA\u001b[0m\u001b[1;33m)\u001b[0m \u001b[1;33m>\u001b[0m \u001b[1;36m0\u001b[0m\u001b[1;33m:\u001b[0m\u001b[1;33m\u001b[0m\u001b[0m\n\u001b[0;32m    956\u001b[0m             \u001b[0mself\u001b[0m\u001b[1;33m.\u001b[0m\u001b[0mvmax\u001b[0m \u001b[1;33m=\u001b[0m \u001b[0mma\u001b[0m\u001b[1;33m.\u001b[0m\u001b[0mmax\u001b[0m\u001b[1;33m(\u001b[0m\u001b[0mA\u001b[0m\u001b[1;33m)\u001b[0m\u001b[1;33m\u001b[0m\u001b[0m\n",
      "\u001b[1;32m/home/paula/anaconda/lib/python2.7/site-packages/numpy/ma/core.pyc\u001b[0m in \u001b[0;36mmin\u001b[1;34m(obj, axis, out, fill_value)\u001b[0m\n\u001b[0;32m   6025\u001b[0m         \u001b[1;31m# If obj doesn't have a min method,\u001b[0m\u001b[1;33m\u001b[0m\u001b[1;33m\u001b[0m\u001b[0m\n\u001b[0;32m   6026\u001b[0m         \u001b[1;31m# ...or if the method doesn't accept a fill_value argument\u001b[0m\u001b[1;33m\u001b[0m\u001b[1;33m\u001b[0m\u001b[0m\n\u001b[1;32m-> 6027\u001b[1;33m         \u001b[1;32mreturn\u001b[0m \u001b[0masanyarray\u001b[0m\u001b[1;33m(\u001b[0m\u001b[0mobj\u001b[0m\u001b[1;33m)\u001b[0m\u001b[1;33m.\u001b[0m\u001b[0mmin\u001b[0m\u001b[1;33m(\u001b[0m\u001b[0maxis\u001b[0m\u001b[1;33m=\u001b[0m\u001b[0maxis\u001b[0m\u001b[1;33m,\u001b[0m \u001b[0mfill_value\u001b[0m\u001b[1;33m=\u001b[0m\u001b[0mfill_value\u001b[0m\u001b[1;33m,\u001b[0m \u001b[0mout\u001b[0m\u001b[1;33m=\u001b[0m\u001b[0mout\u001b[0m\u001b[1;33m)\u001b[0m\u001b[1;33m\u001b[0m\u001b[0m\n\u001b[0m\u001b[0;32m   6028\u001b[0m \u001b[0mmin\u001b[0m\u001b[1;33m.\u001b[0m\u001b[0m__doc__\u001b[0m \u001b[1;33m=\u001b[0m \u001b[0mMaskedArray\u001b[0m\u001b[1;33m.\u001b[0m\u001b[0mmin\u001b[0m\u001b[1;33m.\u001b[0m\u001b[0m__doc__\u001b[0m\u001b[1;33m\u001b[0m\u001b[0m\n\u001b[0;32m   6029\u001b[0m \u001b[1;33m\u001b[0m\u001b[0m\n",
      "\u001b[1;32m/home/paula/anaconda/lib/python2.7/site-packages/numpy/ma/core.pyc\u001b[0m in \u001b[0;36mmin\u001b[1;34m(self, axis, out, fill_value)\u001b[0m\n\u001b[0;32m   5179\u001b[0m         \u001b[1;31m# No explicit output\u001b[0m\u001b[1;33m\u001b[0m\u001b[1;33m\u001b[0m\u001b[0m\n\u001b[0;32m   5180\u001b[0m         \u001b[1;32mif\u001b[0m \u001b[0mout\u001b[0m \u001b[1;32mis\u001b[0m \u001b[0mNone\u001b[0m\u001b[1;33m:\u001b[0m\u001b[1;33m\u001b[0m\u001b[0m\n\u001b[1;32m-> 5181\u001b[1;33m             \u001b[0mresult\u001b[0m \u001b[1;33m=\u001b[0m \u001b[0mself\u001b[0m\u001b[1;33m.\u001b[0m\u001b[0mfilled\u001b[0m\u001b[1;33m(\u001b[0m\u001b[0mfill_value\u001b[0m\u001b[1;33m)\u001b[0m\u001b[1;33m.\u001b[0m\u001b[0mmin\u001b[0m\u001b[1;33m(\u001b[0m\u001b[0maxis\u001b[0m\u001b[1;33m=\u001b[0m\u001b[0maxis\u001b[0m\u001b[1;33m,\u001b[0m \u001b[0mout\u001b[0m\u001b[1;33m=\u001b[0m\u001b[0mout\u001b[0m\u001b[1;33m)\u001b[0m\u001b[1;33m.\u001b[0m\u001b[0mview\u001b[0m\u001b[1;33m(\u001b[0m\u001b[0mtype\u001b[0m\u001b[1;33m(\u001b[0m\u001b[0mself\u001b[0m\u001b[1;33m)\u001b[0m\u001b[1;33m)\u001b[0m\u001b[1;33m\u001b[0m\u001b[0m\n\u001b[0m\u001b[0;32m   5182\u001b[0m             \u001b[1;32mif\u001b[0m \u001b[0mresult\u001b[0m\u001b[1;33m.\u001b[0m\u001b[0mndim\u001b[0m\u001b[1;33m:\u001b[0m\u001b[1;33m\u001b[0m\u001b[0m\n\u001b[0;32m   5183\u001b[0m                 \u001b[1;31m# Set the mask\u001b[0m\u001b[1;33m\u001b[0m\u001b[1;33m\u001b[0m\u001b[0m\n",
      "\u001b[1;31mAttributeError\u001b[0m: 'Add' object has no attribute 'view'"
     ]
    },
    {
     "data": {
      "image/png": "[encoded data removed]",
      "text/plain": [
       "<matplotlib.figure.Figure at 0x7f304a77bf50>"
      ]
     },
     "metadata": {},
     "output_type": "display_data"
    }
   ],
   "source": [
    "#Graficar \n",
    "a=plt.figure(figsize=(12,10))\n",
    "ax=a.add_subplot(111)\n",
    "a.colorbar(ax.pcolor(xx, yy, 80000*Pot[Nl/2], cmap='gist_heat'))\n",
    "plt.clabel(ax.contour(xx, yy, 80000*Pot[Nl/2], levels=[-16, 40, -100,-200,-400,-800,-1600],colors = 'k'))\n",
    "plt.show()"
   ]
  },
  {
   "cell_type": "code",
   "execution_count": null,
   "metadata": {
    "collapsed": true
   },
   "outputs": [],
   "source": []
  }
 ],
 "metadata": {
  "kernelspec": {
   "display_name": "Python 2",
   "language": "python",
   "name": "python2"
  },
  "language_info": {
   "codemirror_mode": {
    "name": "ipython",
    "version": 2
   },
   "file_extension": ".py",
   "mimetype": "text/x-python",
   "name": "python",
   "nbconvert_exporter": "python",
   "pygments_lexer": "ipython2",
   "version": "2.7.10"
  }
 },
 "nbformat": 4,
 "nbformat_minor": 0
}
