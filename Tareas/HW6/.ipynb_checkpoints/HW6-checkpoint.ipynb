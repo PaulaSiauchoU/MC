{
 "cells": [
  {
   "cell_type": "code",
   "execution_count": 22,
   "metadata": {
    "collapsed": false
   },
   "outputs": [
    {
     "name": "stdout",
     "output_type": "stream",
     "text": [
      "Populating the interactive namespace from numpy and matplotlib\n"
     ]
    },
    {
     "name": "stderr",
     "output_type": "stream",
     "text": [
      "WARNING: pylab import has clobbered these variables: ['prod', 'Circle', 'power', 'diag', 'sinh', 'trunc', 'binomial', 'plot', 'eye', 'f', 'det', 'tan', 'product', 'roots', 'vectorize', 'sin', 'plotting', 'zeros', 'cosh', 'conjugate', 'take', 'trace', 'beta', 'ones', 'transpose', 'cos', 'interactive', 'solve', 'diff', 'invert', 'tanh', 'Polygon', 'reshape', 'sqrt', 'floor', 'source', 'add', 'multinomial', 'test', 'poly', 'mod', 'sign', 'gamma', 'log', 'var', 'seterr', 'flatten', 'nan', 'pi', 'exp']\n",
      "`%matplotlib` prevents importing * from pylab and numpy\n"
     ]
    }
   ],
   "source": [
    "%pylab inline\n",
    "import numpy as np\n",
    "import matplotlib as mpl\n",
    "import matplotlib.pyplot as plt\n",
    "%matplotlib inline\n",
    "from sympy import*\n",
    "init_printing(use_unicode=True)"
   ]
  },
  {
   "cell_type": "code",
   "execution_count": 23,
   "metadata": {
    "collapsed": false
   },
   "outputs": [],
   "source": [
    "#Defino la función que me recibe como parámetro \n",
    "#Defino los símbolos para poder resolver el polinomio\n",
    "#De creación empírica uso el polinomio de Adam-Basforth (Con inspiración de un HandsON realizado en clase) \n",
    "#Defino las variables T1 y T2 con la herramienta var\n",
    "\n",
    "init_printing(use_unicode=True)\n",
    "\n",
    "def Lagrange(Num):\n",
    "    fu=0\n",
    "    #f=var('f')\n",
    "    t=var('t')\n",
    "    for i in range(Num):\n",
    "        nn=1\n",
    "        for j in range(Num):\n",
    "            if i != j:\n",
    "                t1 = var('t%d'%j)\n",
    "                t2 = var('t%d'%i)\n",
    "                nn *= ((t - t1)/(t2 - t1))\n",
    "        fu+=nn*var('f%d'%i)\n",
    "    return fu"
   ]
  },
  {
   "cell_type": "code",
   "execution_count": 24,
   "metadata": {
    "collapsed": false
   },
   "outputs": [
    {
     "data": {
      "image/png": "[encoded data removed]",
      "text/latex": [
       "$$0$$"
      ],
      "text/plain": [
       "0"
      ]
     },
     "execution_count": 24,
     "metadata": {},
     "output_type": "execute_result"
    }
   ],
   "source": [
    "#Función de orden cero (0)\n",
    "Lagrange(0)"
   ]
  },
  {
   "cell_type": "code",
   "execution_count": 26,
   "metadata": {
    "collapsed": false
   },
   "outputs": [
    {
     "data": {
      "image/png": "[encoded data removed]",
      "text/latex": [
       "$$f_{0}$$"
      ],
      "text/plain": [
       "f₀"
      ]
     },
     "execution_count": 26,
     "metadata": {},
     "output_type": "execute_result"
    }
   ],
   "source": [
    "\n",
    "#Función de orden primero (1)\n",
    "Lagrange(1)"
   ]
  },
  {
   "cell_type": "code",
   "execution_count": 27,
   "metadata": {
    "collapsed": false
   },
   "outputs": [
    {
     "data": {
      "image/png": "[encoded data removed]",
      "text/latex": [
       "$$\\frac{f_{0} \\left(t - t_{1}\\right)}{t_{0} - t_{1}} + \\frac{f_{1} \\left(t - t_{0}\\right)}{- t_{0} + t_{1}}$$"
      ],
      "text/plain": [
       "f₀⋅(t - t₁)   f₁⋅(t - t₀)\n",
       "─────────── + ───────────\n",
       "  t₀ - t₁       -t₀ + t₁ "
      ]
     },
     "execution_count": 27,
     "metadata": {},
     "output_type": "execute_result"
    }
   ],
   "source": [
    "#Función de orden dos (2)\n",
    "Lagrange(2)"
   ]
  },
  {
   "cell_type": "code",
   "execution_count": 28,
   "metadata": {
    "collapsed": false
   },
   "outputs": [
    {
     "data": {
      "image/png": "[encoded data removed]",
      "text/latex": [
       "$$\\frac{f_{0} \\left(t - t_{1}\\right) \\left(t - t_{2}\\right) \\left(t - t_{3}\\right)}{\\left(t_{0} - t_{1}\\right) \\left(t_{0} - t_{2}\\right) \\left(t_{0} - t_{3}\\right)} + \\frac{f_{1} \\left(t - t_{0}\\right) \\left(t - t_{2}\\right) \\left(t - t_{3}\\right)}{\\left(- t_{0} + t_{1}\\right) \\left(t_{1} - t_{2}\\right) \\left(t_{1} - t_{3}\\right)} + \\frac{f_{2} \\left(t - t_{0}\\right) \\left(t - t_{1}\\right) \\left(t - t_{3}\\right)}{\\left(- t_{0} + t_{2}\\right) \\left(- t_{1} + t_{2}\\right) \\left(t_{2} - t_{3}\\right)} + \\frac{f_{3} \\left(t - t_{0}\\right) \\left(t - t_{1}\\right) \\left(t - t_{2}\\right)}{\\left(- t_{0} + t_{3}\\right) \\left(- t_{1} + t_{3}\\right) \\left(- t_{2} + t_{3}\\right)}$$"
      ],
      "text/plain": [
       "f₀⋅(t - t₁)⋅(t - t₂)⋅(t - t₃)   f₁⋅(t - t₀)⋅(t - t₂)⋅(t - t₃)     f₂⋅(t - t₀)⋅\n",
       "───────────────────────────── + ────────────────────────────── + ─────────────\n",
       "(t₀ - t₁)⋅(t₀ - t₂)⋅(t₀ - t₃)   (-t₀ + t₁)⋅(t₁ - t₂)⋅(t₁ - t₃)   (-t₀ + t₂)⋅(-\n",
       "\n",
       "(t - t₁)⋅(t - t₃)     f₃⋅(t - t₀)⋅(t - t₁)⋅(t - t₂)  \n",
       "────────────────── + ────────────────────────────────\n",
       "t₁ + t₂)⋅(t₂ - t₃)   (-t₀ + t₃)⋅(-t₁ + t₃)⋅(-t₂ + t₃)"
      ]
     },
     "execution_count": 28,
     "metadata": {},
     "output_type": "execute_result"
    }
   ],
   "source": [
    "#Función de orden cuatro (4)\n",
    "Lagrange(4)"
   ]
  },
  {
   "cell_type": "markdown",
   "metadata": {},
   "source": [
    "#b)Adams"
   ]
  },
  {
   "cell_type": "code",
   "execution_count": 31,
   "metadata": {
    "collapsed": true
   },
   "outputs": [],
   "source": [
    "#Defino la función de adams\n",
    "#Defino las variables con la ayuda de SYmbols y un arreglo de SYmbols para ir generando el for \n",
    "#Traigo mi función Lagrange como mi polinomio\n",
    "#Con la ayuda de subs voy reescribiendo el polinomio\n",
    "\n",
    "init_printing(use_unicode=True)\n",
    "\n",
    "\n",
    "def Adams(Num):\n",
    "    \n",
    "    Polinomio=Lagrange(Num)\n",
    "    t=symbols('t')\n",
    "    arraySim=symarray('t', Num) \n",
    "    h=symbols('h') \n",
    "    \n",
    "    for i in range(Num):\n",
    "        \n",
    "        Polinomio = Polinomio.subs(arraySim[i],arraySim[0]-i*h)\n",
    "        integral=simplify(integrate(Polinomio,(t,arraySim[0],(arraySim[0]+h))))\n",
    "        \n",
    "    return integral"
   ]
  },
  {
   "cell_type": "code",
   "execution_count": 32,
   "metadata": {
    "collapsed": false
   },
   "outputs": [
    {
     "data": {
      "image/png": "[encoded data removed]",
      "text/latex": [
       "$$f_{0} h$$"
      ],
      "text/plain": [
       "f₀⋅h"
      ]
     },
     "execution_count": 32,
     "metadata": {},
     "output_type": "execute_result"
    }
   ],
   "source": [
    "#Función de orden uno (1)\n",
    "Adams(1)"
   ]
  },
  {
   "cell_type": "markdown",
   "metadata": {},
   "source": [
    "#Punto 2\n",
    "##Potencial Gravitacional"
   ]
  },
  {
   "cell_type": "code",
   "execution_count": 14,
   "metadata": {
    "collapsed": true
   },
   "outputs": [],
   "source": [
    "#Definimos todas las constantes necesarias\n",
    "#Densidad las unidad son (Kg/cm3)\n",
    "#La unidad del lado del cubo esta en (m)\n",
    "#Todas las unidades de as constantes se encuentran en SI (Sistema Internacional)\n",
    "\n",
    "M=30 #Masa en kg\n",
    "Ro=400.\n",
    "\n",
    "Lado=270\n",
    "\n",
    "e0=8.85e-12 \n",
    "\n",
    "q=1e-2 \n",
    "\n",
    "Nl=100\n",
    "\n",
    "xmin=-Lado/2\n",
    "\n",
    "xmax= Lado/2\n",
    "\n",
    "ymin=-Lado/2\n",
    "\n",
    "ymax= Lado/2\n",
    "\n",
    "zmin=-Lado/2\n",
    "\n",
    "zmax=Lado/2\n",
    "\n",
    "NumIter=10\n",
    "\n",
    "G=6.674e-11"
   ]
  },
  {
   "cell_type": "code",
   "execution_count": null,
   "metadata": {
    "collapsed": false
   },
   "outputs": [],
   "source": [
    "#Declaro las coordenadas en las tres dimesiones\n",
    "#Creo los mesgrid de cada coordenada (x y z)\n",
    "#La variable que se llama constante pertenece al potencial gravitacional\n",
    "#Creo el cuadrado con la ayuda de np.ones y np.zeros\n",
    "#Mi cubo es de 10x10x10 y esta fijado en el centro de la malla de 100x100x100\n",
    "\n",
    "xx=np.linspace(xmin,xmax,Nl)\n",
    "yy=np.linspace(ymin,ymax,Nl) \n",
    "zz=np.linspace(zmin,zmax, Nl)\n",
    "\n",
    "x,y,z=np.meshgrid(xx,yy,zz)\n",
    "\n",
    "dx=(xmax-xmin)/Nl\n",
    "dy=(ymax-ymin)/Nl\n",
    "dz=(zmax-zmin)/Nl\n",
    "\n",
    "constante=Ro*np.pi*4*G\n",
    "\n",
    "densidad=np.zeros((Nl,Nl,Nl))\n",
    "\n",
    "cuadrado = np.ones((10,10,10))\n",
    "cuadradoEn400= cuadrado*constante\n",
    "cuafradoF=np.array(cuadradoEn400*4.*pi*G*M**2)\n",
    "\n",
    "densidad[45:55,45:55,45:55] = cuadradoEn400\n",
    "\n",
    "\n",
    "densidadf=np.array(densidad*4.*pi*G*M**2)\n",
    "print len(densidadf)\n",
    "print len(cuadrado)\n",
    "print densidadf[44:50,44:50,44:50]"
   ]
  },
  {
   "cell_type": "code",
   "execution_count": 21,
   "metadata": {
    "collapsed": false
   },
   "outputs": [
    {
     "name": "stdout",
     "output_type": "stream",
     "text": [
      "[[[ -3.08258856e-06  -3.10334482e-06  -3.12408948e-06 ...,  -3.12408948e-06\n",
      "    -3.10334482e-06  -3.08258856e-06]\n",
      "  [ -3.10334482e-06  -3.12452610e-06  -3.14570134e-06 ...,  -3.14570134e-06\n",
      "    -3.12452610e-06  -3.10334482e-06]\n",
      "  [ -3.12408948e-06  -3.14570134e-06  -3.16731303e-06 ...,  -3.16731303e-06\n",
      "    -3.14570134e-06  -3.12408948e-06]\n",
      "  ..., \n",
      "  [ -3.12408948e-06  -3.14570134e-06  -3.16731303e-06 ...,  -3.16731303e-06\n",
      "    -3.14570134e-06  -3.12408948e-06]\n",
      "  [ -3.10334482e-06  -3.12452610e-06  -3.14570134e-06 ...,  -3.14570134e-06\n",
      "    -3.12452610e-06  -3.10334482e-06]\n",
      "  [ -3.08258856e-06  -3.10334482e-06  -3.12408948e-06 ...,  -3.12408948e-06\n",
      "    -3.10334482e-06  -3.08258856e-06]]\n",
      "\n",
      " [[ -3.10334482e-06  -3.12452610e-06  -3.14570134e-06 ...,  -3.14570134e-06\n",
      "    -3.12452610e-06  -3.10334482e-06]\n",
      "  [ -3.12452610e-06  -3.14614708e-06  -3.16776802e-06 ...,  -3.16776802e-06\n",
      "    -3.14614708e-06  -3.12452610e-06]\n",
      "  [ -3.14570134e-06  -3.16776802e-06  -3.18984092e-06 ...,  -3.18984092e-06\n",
      "    -3.16776802e-06  -3.14570134e-06]\n",
      "  ..., \n",
      "  [ -3.14570134e-06  -3.16776802e-06  -3.18984092e-06 ...,  -3.18984092e-06\n",
      "    -3.16776802e-06  -3.14570134e-06]\n",
      "  [ -3.12452610e-06  -3.14614708e-06  -3.16776802e-06 ...,  -3.16776802e-06\n",
      "    -3.14614708e-06  -3.12452610e-06]\n",
      "  [ -3.10334482e-06  -3.12452610e-06  -3.14570134e-06 ...,  -3.14570134e-06\n",
      "    -3.12452610e-06  -3.10334482e-06]]\n",
      "\n",
      " [[ -3.12408948e-06  -3.14570134e-06  -3.16731303e-06 ...,  -3.16731303e-06\n",
      "    -3.14570134e-06  -3.12408948e-06]\n",
      "  [ -3.14570134e-06  -3.16776802e-06  -3.18984092e-06 ...,  -3.18984092e-06\n",
      "    -3.16776802e-06  -3.14570134e-06]\n",
      "  [ -3.16731303e-06  -3.18984092e-06  -3.21238176e-06 ...,  -3.21238176e-06\n",
      "    -3.18984092e-06  -3.16731303e-06]\n",
      "  ..., \n",
      "  [ -3.16731303e-06  -3.18984092e-06  -3.21238176e-06 ...,  -3.21238176e-06\n",
      "    -3.18984092e-06  -3.16731303e-06]\n",
      "  [ -3.14570134e-06  -3.16776802e-06  -3.18984092e-06 ...,  -3.18984092e-06\n",
      "    -3.16776802e-06  -3.14570134e-06]\n",
      "  [ -3.12408948e-06  -3.14570134e-06  -3.16731303e-06 ...,  -3.16731303e-06\n",
      "    -3.14570134e-06  -3.12408948e-06]]\n",
      "\n",
      " ..., \n",
      " [[ -3.12408948e-06  -3.14570134e-06  -3.16731303e-06 ...,  -3.16731303e-06\n",
      "    -3.14570134e-06  -3.12408948e-06]\n",
      "  [ -3.14570134e-06  -3.16776802e-06  -3.18984092e-06 ...,  -3.18984092e-06\n",
      "    -3.16776802e-06  -3.14570134e-06]\n",
      "  [ -3.16731303e-06  -3.18984092e-06  -3.21238176e-06 ...,  -3.21238176e-06\n",
      "    -3.18984092e-06  -3.16731303e-06]\n",
      "  ..., \n",
      "  [ -3.16731303e-06  -3.18984092e-06  -3.21238176e-06 ...,  -3.21238176e-06\n",
      "    -3.18984092e-06  -3.16731303e-06]\n",
      "  [ -3.14570134e-06  -3.16776802e-06  -3.18984092e-06 ...,  -3.18984092e-06\n",
      "    -3.16776802e-06  -3.14570134e-06]\n",
      "  [ -3.12408948e-06  -3.14570134e-06  -3.16731303e-06 ...,  -3.16731303e-06\n",
      "    -3.14570134e-06  -3.12408948e-06]]\n",
      "\n",
      " [[ -3.10334482e-06  -3.12452610e-06  -3.14570134e-06 ...,  -3.14570134e-06\n",
      "    -3.12452610e-06  -3.10334482e-06]\n",
      "  [ -3.12452610e-06  -3.14614708e-06  -3.16776802e-06 ...,  -3.16776802e-06\n",
      "    -3.14614708e-06  -3.12452610e-06]\n",
      "  [ -3.14570134e-06  -3.16776802e-06  -3.18984092e-06 ...,  -3.18984092e-06\n",
      "    -3.16776802e-06  -3.14570134e-06]\n",
      "  ..., \n",
      "  [ -3.14570134e-06  -3.16776802e-06  -3.18984092e-06 ...,  -3.18984092e-06\n",
      "    -3.16776802e-06  -3.14570134e-06]\n",
      "  [ -3.12452610e-06  -3.14614708e-06  -3.16776802e-06 ...,  -3.16776802e-06\n",
      "    -3.14614708e-06  -3.12452610e-06]\n",
      "  [ -3.10334482e-06  -3.12452610e-06  -3.14570134e-06 ...,  -3.14570134e-06\n",
      "    -3.12452610e-06  -3.10334482e-06]]\n",
      "\n",
      " [[ -3.08258856e-06  -3.10334482e-06  -3.12408948e-06 ...,  -3.12408948e-06\n",
      "    -3.10334482e-06  -3.08258856e-06]\n",
      "  [ -3.10334482e-06  -3.12452610e-06  -3.14570134e-06 ...,  -3.14570134e-06\n",
      "    -3.12452610e-06  -3.10334482e-06]\n",
      "  [ -3.12408948e-06  -3.14570134e-06  -3.16731303e-06 ...,  -3.16731303e-06\n",
      "    -3.14570134e-06  -3.12408948e-06]\n",
      "  ..., \n",
      "  [ -3.12408948e-06  -3.14570134e-06  -3.16731303e-06 ...,  -3.16731303e-06\n",
      "    -3.14570134e-06  -3.12408948e-06]\n",
      "  [ -3.10334482e-06  -3.12452610e-06  -3.14570134e-06 ...,  -3.14570134e-06\n",
      "    -3.12452610e-06  -3.10334482e-06]\n",
      "  [ -3.08258856e-06  -3.10334482e-06  -3.12408948e-06 ...,  -3.12408948e-06\n",
      "    -3.10334482e-06  -3.08258856e-06]]]\n"
     ]
    },
    {
     "ename": "KeyboardInterrupt",
     "evalue": "",
     "output_type": "error",
     "traceback": [
      "\u001b[1;31m---------------------------------------------------------------------------\u001b[0m",
      "\u001b[1;31mKeyboardInterrupt\u001b[0m                         Traceback (most recent call last)",
      "\u001b[1;32m<ipython-input-21-8fa52daf3992>\u001b[0m in \u001b[0;36m<module>\u001b[1;34m()\u001b[0m\n\u001b[0;32m     14\u001b[0m               \u001b[0mnp\u001b[0m\u001b[1;33m.\u001b[0m\u001b[0mroll\u001b[0m\u001b[1;33m(\u001b[0m\u001b[0mPot\u001b[0m\u001b[1;33m,\u001b[0m\u001b[1;36m1\u001b[0m\u001b[1;33m,\u001b[0m\u001b[0maxis\u001b[0m\u001b[1;33m=\u001b[0m \u001b[1;36m2\u001b[0m\u001b[1;33m)\u001b[0m\u001b[1;33m+\u001b[0m\u001b[1;33m\u001b[0m\u001b[0m\n\u001b[0;32m     15\u001b[0m               \u001b[0mnp\u001b[0m\u001b[1;33m.\u001b[0m\u001b[0mroll\u001b[0m\u001b[1;33m(\u001b[0m\u001b[0mPot\u001b[0m\u001b[1;33m,\u001b[0m\u001b[1;33m-\u001b[0m\u001b[1;36m1\u001b[0m\u001b[1;33m,\u001b[0m\u001b[0maxis\u001b[0m\u001b[1;33m=\u001b[0m \u001b[1;36m2\u001b[0m\u001b[1;33m)\u001b[0m\u001b[1;33m-\u001b[0m\u001b[1;33m\u001b[0m\u001b[0m\n\u001b[1;32m---> 16\u001b[1;33m               densidadf)\n\u001b[0m\u001b[0;32m     17\u001b[0m     \u001b[0mPot\u001b[0m\u001b[1;33m[\u001b[0m\u001b[1;36m0\u001b[0m\u001b[1;33m]\u001b[0m\u001b[1;33m=\u001b[0m\u001b[1;36m0.\u001b[0m\u001b[1;33m\u001b[0m\u001b[0m\n\u001b[0;32m     18\u001b[0m     \u001b[0mPot\u001b[0m\u001b[1;33m[\u001b[0m\u001b[1;33m-\u001b[0m\u001b[1;36m1\u001b[0m\u001b[1;33m]\u001b[0m\u001b[1;33m=\u001b[0m\u001b[1;36m0.\u001b[0m\u001b[1;33m\u001b[0m\u001b[0m\n",
      "\u001b[1;32m/home/paula/anaconda/lib/python2.7/site-packages/sympy/core/decorators.pyc\u001b[0m in \u001b[0;36m__sympifyit_wrapper\u001b[1;34m(a, b)\u001b[0m\n\u001b[0;32m     75\u001b[0m                 \u001b[1;32mif\u001b[0m \u001b[1;32mnot\u001b[0m \u001b[0mhasattr\u001b[0m\u001b[1;33m(\u001b[0m\u001b[0mb\u001b[0m\u001b[1;33m,\u001b[0m \u001b[1;34m'_op_priority'\u001b[0m\u001b[1;33m)\u001b[0m\u001b[1;33m:\u001b[0m\u001b[1;33m\u001b[0m\u001b[0m\n\u001b[0;32m     76\u001b[0m                     \u001b[0mb\u001b[0m \u001b[1;33m=\u001b[0m \u001b[0msympify\u001b[0m\u001b[1;33m(\u001b[0m\u001b[0mb\u001b[0m\u001b[1;33m,\u001b[0m \u001b[0mstrict\u001b[0m\u001b[1;33m=\u001b[0m\u001b[0mTrue\u001b[0m\u001b[1;33m)\u001b[0m\u001b[1;33m\u001b[0m\u001b[0m\n\u001b[1;32m---> 77\u001b[1;33m                 \u001b[1;32mreturn\u001b[0m \u001b[0mfunc\u001b[0m\u001b[1;33m(\u001b[0m\u001b[0ma\u001b[0m\u001b[1;33m,\u001b[0m \u001b[0mb\u001b[0m\u001b[1;33m)\u001b[0m\u001b[1;33m\u001b[0m\u001b[0m\n\u001b[0m\u001b[0;32m     78\u001b[0m             \u001b[1;32mexcept\u001b[0m \u001b[0mSympifyError\u001b[0m\u001b[1;33m:\u001b[0m\u001b[1;33m\u001b[0m\u001b[0m\n\u001b[0;32m     79\u001b[0m                 \u001b[1;32mreturn\u001b[0m \u001b[0mretval\u001b[0m\u001b[1;33m\u001b[0m\u001b[0m\n",
      "\u001b[1;32m/home/paula/anaconda/lib/python2.7/site-packages/sympy/core/decorators.pyc\u001b[0m in \u001b[0;36mbinary_op_wrapper\u001b[1;34m(self, other)\u001b[0m\n\u001b[0;32m    116\u001b[0m                     \u001b[1;32melse\u001b[0m\u001b[1;33m:\u001b[0m\u001b[1;33m\u001b[0m\u001b[0m\n\u001b[0;32m    117\u001b[0m                         \u001b[1;32mreturn\u001b[0m \u001b[0mf\u001b[0m\u001b[1;33m(\u001b[0m\u001b[0mself\u001b[0m\u001b[1;33m)\u001b[0m\u001b[1;33m\u001b[0m\u001b[0m\n\u001b[1;32m--> 118\u001b[1;33m             \u001b[1;32mreturn\u001b[0m \u001b[0mfunc\u001b[0m\u001b[1;33m(\u001b[0m\u001b[0mself\u001b[0m\u001b[1;33m,\u001b[0m \u001b[0mother\u001b[0m\u001b[1;33m)\u001b[0m\u001b[1;33m\u001b[0m\u001b[0m\n\u001b[0m\u001b[0;32m    119\u001b[0m         \u001b[1;32mreturn\u001b[0m \u001b[0mbinary_op_wrapper\u001b[0m\u001b[1;33m\u001b[0m\u001b[0m\n\u001b[0;32m    120\u001b[0m     \u001b[1;32mreturn\u001b[0m \u001b[0mpriority_decorator\u001b[0m\u001b[1;33m\u001b[0m\u001b[0m\n",
      "\u001b[1;32m/home/paula/anaconda/lib/python2.7/site-packages/sympy/core/expr.pyc\u001b[0m in \u001b[0;36m__rmul__\u001b[1;34m(self, other)\u001b[0m\n\u001b[0;32m    144\u001b[0m     \u001b[1;33m@\u001b[0m\u001b[0mcall_highest_priority\u001b[0m\u001b[1;33m(\u001b[0m\u001b[1;34m'__mul__'\u001b[0m\u001b[1;33m)\u001b[0m\u001b[1;33m\u001b[0m\u001b[0m\n\u001b[0;32m    145\u001b[0m     \u001b[1;32mdef\u001b[0m \u001b[0m__rmul__\u001b[0m\u001b[1;33m(\u001b[0m\u001b[0mself\u001b[0m\u001b[1;33m,\u001b[0m \u001b[0mother\u001b[0m\u001b[1;33m)\u001b[0m\u001b[1;33m:\u001b[0m\u001b[1;33m\u001b[0m\u001b[0m\n\u001b[1;32m--> 146\u001b[1;33m         \u001b[1;32mreturn\u001b[0m \u001b[0mMul\u001b[0m\u001b[1;33m(\u001b[0m\u001b[0mother\u001b[0m\u001b[1;33m,\u001b[0m \u001b[0mself\u001b[0m\u001b[1;33m)\u001b[0m\u001b[1;33m\u001b[0m\u001b[0m\n\u001b[0m\u001b[0;32m    147\u001b[0m \u001b[1;33m\u001b[0m\u001b[0m\n\u001b[0;32m    148\u001b[0m     \u001b[1;33m@\u001b[0m\u001b[0m_sympifyit\u001b[0m\u001b[1;33m(\u001b[0m\u001b[1;34m'other'\u001b[0m\u001b[1;33m,\u001b[0m \u001b[0mNotImplemented\u001b[0m\u001b[1;33m)\u001b[0m\u001b[1;33m\u001b[0m\u001b[0m\n",
      "\u001b[1;32m/home/paula/anaconda/lib/python2.7/site-packages/sympy/core/operations.pyc\u001b[0m in \u001b[0;36m__new__\u001b[1;34m(cls, *args, **options)\u001b[0m\n\u001b[0;32m     39\u001b[0m             \u001b[1;32mreturn\u001b[0m \u001b[0margs\u001b[0m\u001b[1;33m[\u001b[0m\u001b[1;36m0\u001b[0m\u001b[1;33m]\u001b[0m\u001b[1;33m\u001b[0m\u001b[0m\n\u001b[0;32m     40\u001b[0m \u001b[1;33m\u001b[0m\u001b[0m\n\u001b[1;32m---> 41\u001b[1;33m         \u001b[0mc_part\u001b[0m\u001b[1;33m,\u001b[0m \u001b[0mnc_part\u001b[0m\u001b[1;33m,\u001b[0m \u001b[0morder_symbols\u001b[0m \u001b[1;33m=\u001b[0m \u001b[0mcls\u001b[0m\u001b[1;33m.\u001b[0m\u001b[0mflatten\u001b[0m\u001b[1;33m(\u001b[0m\u001b[0margs\u001b[0m\u001b[1;33m)\u001b[0m\u001b[1;33m\u001b[0m\u001b[0m\n\u001b[0m\u001b[0;32m     42\u001b[0m         \u001b[0mis_commutative\u001b[0m \u001b[1;33m=\u001b[0m \u001b[1;32mnot\u001b[0m \u001b[0mnc_part\u001b[0m\u001b[1;33m\u001b[0m\u001b[0m\n\u001b[0;32m     43\u001b[0m         \u001b[0mobj\u001b[0m \u001b[1;33m=\u001b[0m \u001b[0mcls\u001b[0m\u001b[1;33m.\u001b[0m\u001b[0m_from_args\u001b[0m\u001b[1;33m(\u001b[0m\u001b[0mc_part\u001b[0m \u001b[1;33m+\u001b[0m \u001b[0mnc_part\u001b[0m\u001b[1;33m,\u001b[0m \u001b[0mis_commutative\u001b[0m\u001b[1;33m)\u001b[0m\u001b[1;33m\u001b[0m\u001b[0m\n",
      "\u001b[1;32m/home/paula/anaconda/lib/python2.7/site-packages/sympy/core/mul.pyc\u001b[0m in \u001b[0;36mflatten\u001b[1;34m(cls, seq)\u001b[0m\n\u001b[0;32m    181\u001b[0m                 \u001b[0ma\u001b[0m\u001b[1;33m,\u001b[0m \u001b[0mb\u001b[0m \u001b[1;33m=\u001b[0m \u001b[0mb\u001b[0m\u001b[1;33m,\u001b[0m \u001b[0ma\u001b[0m\u001b[1;33m\u001b[0m\u001b[0m\n\u001b[0;32m    182\u001b[0m             \u001b[1;32massert\u001b[0m \u001b[1;32mnot\u001b[0m \u001b[0ma\u001b[0m \u001b[1;32mis\u001b[0m \u001b[0mS\u001b[0m\u001b[1;33m.\u001b[0m\u001b[0mOne\u001b[0m\u001b[1;33m\u001b[0m\u001b[0m\n\u001b[1;32m--> 183\u001b[1;33m             \u001b[1;32mif\u001b[0m \u001b[1;32mnot\u001b[0m \u001b[0ma\u001b[0m\u001b[1;33m.\u001b[0m\u001b[0mis_zero\u001b[0m \u001b[1;32mand\u001b[0m \u001b[0ma\u001b[0m\u001b[1;33m.\u001b[0m\u001b[0mis_Rational\u001b[0m\u001b[1;33m:\u001b[0m\u001b[1;33m\u001b[0m\u001b[0m\n\u001b[0m\u001b[0;32m    184\u001b[0m                 \u001b[0mr\u001b[0m\u001b[1;33m,\u001b[0m \u001b[0mb\u001b[0m \u001b[1;33m=\u001b[0m \u001b[0mb\u001b[0m\u001b[1;33m.\u001b[0m\u001b[0mas_coeff_Mul\u001b[0m\u001b[1;33m(\u001b[0m\u001b[1;33m)\u001b[0m\u001b[1;33m\u001b[0m\u001b[0m\n\u001b[0;32m    185\u001b[0m                 \u001b[1;32mif\u001b[0m \u001b[0mb\u001b[0m\u001b[1;33m.\u001b[0m\u001b[0mis_Add\u001b[0m\u001b[1;33m:\u001b[0m\u001b[1;33m\u001b[0m\u001b[0m\n",
      "\u001b[1;32m/home/paula/anaconda/lib/python2.7/site-packages/sympy/core/assumptions.pyc\u001b[0m in \u001b[0;36mgetit\u001b[1;34m(self)\u001b[0m\n\u001b[0;32m    219\u001b[0m             \u001b[1;32mif\u001b[0m \u001b[0mself\u001b[0m\u001b[1;33m.\u001b[0m\u001b[0m_assumptions\u001b[0m \u001b[1;32mis\u001b[0m \u001b[0mself\u001b[0m\u001b[1;33m.\u001b[0m\u001b[0mdefault_assumptions\u001b[0m\u001b[1;33m:\u001b[0m\u001b[1;33m\u001b[0m\u001b[0m\n\u001b[0;32m    220\u001b[0m                 \u001b[0mself\u001b[0m\u001b[1;33m.\u001b[0m\u001b[0m_assumptions\u001b[0m \u001b[1;33m=\u001b[0m \u001b[0mself\u001b[0m\u001b[1;33m.\u001b[0m\u001b[0mdefault_assumptions\u001b[0m\u001b[1;33m.\u001b[0m\u001b[0mcopy\u001b[0m\u001b[1;33m(\u001b[0m\u001b[1;33m)\u001b[0m\u001b[1;33m\u001b[0m\u001b[0m\n\u001b[1;32m--> 221\u001b[1;33m             \u001b[1;32mreturn\u001b[0m \u001b[0m_ask\u001b[0m\u001b[1;33m(\u001b[0m\u001b[0mfact\u001b[0m\u001b[1;33m,\u001b[0m \u001b[0mself\u001b[0m\u001b[1;33m)\u001b[0m\u001b[1;33m\u001b[0m\u001b[0m\n\u001b[0m\u001b[0;32m    222\u001b[0m \u001b[1;33m\u001b[0m\u001b[0m\n\u001b[0;32m    223\u001b[0m     \u001b[0mgetit\u001b[0m\u001b[1;33m.\u001b[0m\u001b[0mfunc_name\u001b[0m \u001b[1;33m=\u001b[0m \u001b[0mas_property\u001b[0m\u001b[1;33m(\u001b[0m\u001b[0mfact\u001b[0m\u001b[1;33m)\u001b[0m\u001b[1;33m\u001b[0m\u001b[0m\n",
      "\u001b[1;32m/home/paula/anaconda/lib/python2.7/site-packages/sympy/core/assumptions.pyc\u001b[0m in \u001b[0;36m_ask\u001b[1;34m(fact, obj)\u001b[0m\n\u001b[0;32m    264\u001b[0m         \u001b[0ma\u001b[0m \u001b[1;33m=\u001b[0m \u001b[0mevaluate\u001b[0m\u001b[1;33m(\u001b[0m\u001b[0mobj\u001b[0m\u001b[1;33m)\u001b[0m\u001b[1;33m\u001b[0m\u001b[0m\n\u001b[0;32m    265\u001b[0m         \u001b[1;32mif\u001b[0m \u001b[0ma\u001b[0m \u001b[1;32mis\u001b[0m \u001b[1;32mnot\u001b[0m \u001b[0mNone\u001b[0m\u001b[1;33m:\u001b[0m\u001b[1;33m\u001b[0m\u001b[0m\n\u001b[1;32m--> 266\u001b[1;33m             \u001b[0massumptions\u001b[0m\u001b[1;33m.\u001b[0m\u001b[0mdeduce_all_facts\u001b[0m\u001b[1;33m(\u001b[0m\u001b[1;33m(\u001b[0m\u001b[1;33m(\u001b[0m\u001b[0mfact\u001b[0m\u001b[1;33m,\u001b[0m \u001b[0ma\u001b[0m\u001b[1;33m)\u001b[0m\u001b[1;33m,\u001b[0m\u001b[1;33m)\u001b[0m\u001b[1;33m)\u001b[0m\u001b[1;33m\u001b[0m\u001b[0m\n\u001b[0m\u001b[0;32m    267\u001b[0m             \u001b[1;32mreturn\u001b[0m \u001b[0ma\u001b[0m\u001b[1;33m\u001b[0m\u001b[0m\n\u001b[0;32m    268\u001b[0m \u001b[1;33m\u001b[0m\u001b[0m\n",
      "\u001b[1;32m/home/paula/anaconda/lib/python2.7/site-packages/sympy/core/facts.pyc\u001b[0m in \u001b[0;36mdeduce_all_facts\u001b[1;34m(self, facts)\u001b[0m\n\u001b[0;32m    523\u001b[0m                 \u001b[1;31m# lookup routing tables\u001b[0m\u001b[1;33m\u001b[0m\u001b[1;33m\u001b[0m\u001b[0m\n\u001b[0;32m    524\u001b[0m                 \u001b[1;32mfor\u001b[0m \u001b[0mkey\u001b[0m\u001b[1;33m,\u001b[0m \u001b[0mvalue\u001b[0m \u001b[1;32min\u001b[0m \u001b[0mfull_implications\u001b[0m\u001b[1;33m[\u001b[0m\u001b[0mk\u001b[0m\u001b[1;33m,\u001b[0m \u001b[0mv\u001b[0m\u001b[1;33m]\u001b[0m\u001b[1;33m:\u001b[0m\u001b[1;33m\u001b[0m\u001b[0m\n\u001b[1;32m--> 525\u001b[1;33m                     \u001b[0mself\u001b[0m\u001b[1;33m.\u001b[0m\u001b[0m_tell\u001b[0m\u001b[1;33m(\u001b[0m\u001b[0mkey\u001b[0m\u001b[1;33m,\u001b[0m \u001b[0mvalue\u001b[0m\u001b[1;33m)\u001b[0m\u001b[1;33m\u001b[0m\u001b[0m\n\u001b[0m\u001b[0;32m    526\u001b[0m \u001b[1;33m\u001b[0m\u001b[0m\n\u001b[0;32m    527\u001b[0m                 \u001b[0mbeta_maytrigger\u001b[0m\u001b[1;33m.\u001b[0m\u001b[0mupdate\u001b[0m\u001b[1;33m(\u001b[0m\u001b[0mbeta_triggers\u001b[0m\u001b[1;33m[\u001b[0m\u001b[0mk\u001b[0m\u001b[1;33m,\u001b[0m \u001b[0mv\u001b[0m\u001b[1;33m]\u001b[0m\u001b[1;33m)\u001b[0m\u001b[1;33m\u001b[0m\u001b[0m\n",
      "\u001b[1;32m/home/paula/anaconda/lib/python2.7/site-packages/sympy/core/facts.pyc\u001b[0m in \u001b[0;36m_tell\u001b[1;34m(self, k, v)\u001b[0m\n\u001b[0;32m    480\u001b[0m         \u001b[0mself\u001b[0m\u001b[1;33m.\u001b[0m\u001b[0mrules\u001b[0m \u001b[1;33m=\u001b[0m \u001b[0mrules\u001b[0m\u001b[1;33m\u001b[0m\u001b[0m\n\u001b[0;32m    481\u001b[0m \u001b[1;33m\u001b[0m\u001b[0m\n\u001b[1;32m--> 482\u001b[1;33m     \u001b[1;32mdef\u001b[0m \u001b[0m_tell\u001b[0m\u001b[1;33m(\u001b[0m\u001b[0mself\u001b[0m\u001b[1;33m,\u001b[0m \u001b[0mk\u001b[0m\u001b[1;33m,\u001b[0m \u001b[0mv\u001b[0m\u001b[1;33m)\u001b[0m\u001b[1;33m:\u001b[0m\u001b[1;33m\u001b[0m\u001b[0m\n\u001b[0m\u001b[0;32m    483\u001b[0m         \"\"\"Add fact k=v to the knowledge base.\n\u001b[0;32m    484\u001b[0m \u001b[1;33m\u001b[0m\u001b[0m\n",
      "\u001b[1;31mKeyboardInterrupt\u001b[0m: "
     ]
    }
   ],
   "source": [
    "#Se implementa el método de relación, inspirado en el cuaderno de Juan David Lizarazo\n",
    "X=x*x\n",
    "Y=y*y\n",
    "Z=z*z\n",
    "r=np.sqrt(X+Y+Z)\n",
    "#Se define el potencial\n",
    "Pot=-G*Ro*M**3/r\n",
    "print Pot\n",
    "for __ in range(NumIter):\n",
    "    Pot=1/6.*(np.roll(Pot,1,axis=0)+\n",
    "              np.roll(Pot,-1,axis=0)+\n",
    "              np.roll(Pot,1,axis=1)+\n",
    "              np.roll(Pot,-1,axis=1)+\n",
    "              np.roll(Pot,1,axis= 2)+\n",
    "              np.roll(Pot,-1,axis= 2)-\n",
    "              densidadf)\n",
    "    Pot[0]=0.\n",
    "    Pot[-1]=0.\n",
    "    Pot[:,0]=0.\n",
    "    Pot[:,-1]=0.\n",
    "    Pot[:,:,0]=0.\n",
    "    Pot[:,:,-1]=0."
   ]
  },
  {
   "cell_type": "code",
   "execution_count": 38,
   "metadata": {
    "collapsed": false,
    "scrolled": true
   },
   "outputs": [
    {
     "ename": "ValueError",
     "evalue": "zero-size array to reduction operation minimum which has no identity",
     "output_type": "error",
     "traceback": [
      "\u001b[1;31m---------------------------------------------------------------------------\u001b[0m",
      "\u001b[1;31mValueError\u001b[0m                                Traceback (most recent call last)",
      "\u001b[1;32m<ipython-input-38-0368a651d3d9>\u001b[0m in \u001b[0;36m<module>\u001b[1;34m()\u001b[0m\n\u001b[0;32m      3\u001b[0m \u001b[0mplt\u001b[0m\u001b[1;33m.\u001b[0m\u001b[0mpcolor\u001b[0m\u001b[1;33m(\u001b[0m\u001b[0myy\u001b[0m\u001b[1;33m,\u001b[0m\u001b[0mzz\u001b[0m\u001b[1;33m,\u001b[0m\u001b[0mcampo\u001b[0m\u001b[1;33m[\u001b[0m\u001b[1;36m50\u001b[0m\u001b[1;33m]\u001b[0m\u001b[1;33m*\u001b[0m\u001b[1;36m100\u001b[0m\u001b[1;33m**\u001b[0m\u001b[1;36m2\u001b[0m\u001b[1;33m,\u001b[0m\u001b[0mcmap\u001b[0m\u001b[1;33m=\u001b[0m\u001b[1;34m'gist_heat'\u001b[0m\u001b[1;33m)\u001b[0m\u001b[1;33m\u001b[0m\u001b[0m\n\u001b[0;32m      4\u001b[0m \u001b[0mplt\u001b[0m\u001b[1;33m.\u001b[0m\u001b[0mcolorbar\u001b[0m\u001b[1;33m(\u001b[0m\u001b[1;33m)\u001b[0m\u001b[1;33m\u001b[0m\u001b[0m\n\u001b[1;32m----> 5\u001b[1;33m \u001b[0mplt\u001b[0m\u001b[1;33m.\u001b[0m\u001b[0mcontour\u001b[0m\u001b[1;33m(\u001b[0m\u001b[0myy\u001b[0m\u001b[1;33m,\u001b[0m\u001b[0mzz\u001b[0m\u001b[1;33m,\u001b[0m\u001b[0mcampo\u001b[0m\u001b[1;33m[\u001b[0m\u001b[1;36m50\u001b[0m\u001b[1;33m]\u001b[0m\u001b[1;33m*\u001b[0m\u001b[1;36m100\u001b[0m\u001b[1;33m**\u001b[0m\u001b[1;36m2\u001b[0m\u001b[1;33m)\u001b[0m\u001b[1;33m\u001b[0m\u001b[0m\n\u001b[0m\u001b[0;32m      6\u001b[0m \u001b[0mplt\u001b[0m\u001b[1;33m.\u001b[0m\u001b[0mxlim\u001b[0m\u001b[1;33m(\u001b[0m\u001b[0mymin\u001b[0m\u001b[1;33m,\u001b[0m\u001b[0mymax\u001b[0m\u001b[1;33m)\u001b[0m\u001b[1;33m\u001b[0m\u001b[0m\n\u001b[0;32m      7\u001b[0m \u001b[0mplt\u001b[0m\u001b[1;33m.\u001b[0m\u001b[0mylim\u001b[0m\u001b[1;33m(\u001b[0m\u001b[0mzmin\u001b[0m\u001b[1;33m,\u001b[0m\u001b[0mzmax\u001b[0m\u001b[1;33m)\u001b[0m\u001b[1;33m\u001b[0m\u001b[0m\n",
      "\u001b[1;32m/home/paula/anaconda/lib/python2.7/site-packages/matplotlib/pyplot.pyc\u001b[0m in \u001b[0;36mcontour\u001b[1;34m(*args, **kwargs)\u001b[0m\n\u001b[0;32m   2698\u001b[0m         \u001b[0max\u001b[0m\u001b[1;33m.\u001b[0m\u001b[0mhold\u001b[0m\u001b[1;33m(\u001b[0m\u001b[0mhold\u001b[0m\u001b[1;33m)\u001b[0m\u001b[1;33m\u001b[0m\u001b[0m\n\u001b[0;32m   2699\u001b[0m     \u001b[1;32mtry\u001b[0m\u001b[1;33m:\u001b[0m\u001b[1;33m\u001b[0m\u001b[0m\n\u001b[1;32m-> 2700\u001b[1;33m         \u001b[0mret\u001b[0m \u001b[1;33m=\u001b[0m \u001b[0max\u001b[0m\u001b[1;33m.\u001b[0m\u001b[0mcontour\u001b[0m\u001b[1;33m(\u001b[0m\u001b[1;33m*\u001b[0m\u001b[0margs\u001b[0m\u001b[1;33m,\u001b[0m \u001b[1;33m**\u001b[0m\u001b[0mkwargs\u001b[0m\u001b[1;33m)\u001b[0m\u001b[1;33m\u001b[0m\u001b[0m\n\u001b[0m\u001b[0;32m   2701\u001b[0m         \u001b[0mdraw_if_interactive\u001b[0m\u001b[1;33m(\u001b[0m\u001b[1;33m)\u001b[0m\u001b[1;33m\u001b[0m\u001b[0m\n\u001b[0;32m   2702\u001b[0m     \u001b[1;32mfinally\u001b[0m\u001b[1;33m:\u001b[0m\u001b[1;33m\u001b[0m\u001b[0m\n",
      "\u001b[1;32m/home/paula/anaconda/lib/python2.7/site-packages/matplotlib/axes/_axes.pyc\u001b[0m in \u001b[0;36mcontour\u001b[1;34m(self, *args, **kwargs)\u001b[0m\n\u001b[0;32m   5331\u001b[0m             \u001b[0mself\u001b[0m\u001b[1;33m.\u001b[0m\u001b[0mcla\u001b[0m\u001b[1;33m(\u001b[0m\u001b[1;33m)\u001b[0m\u001b[1;33m\u001b[0m\u001b[0m\n\u001b[0;32m   5332\u001b[0m         \u001b[0mkwargs\u001b[0m\u001b[1;33m[\u001b[0m\u001b[1;34m'filled'\u001b[0m\u001b[1;33m]\u001b[0m \u001b[1;33m=\u001b[0m \u001b[0mFalse\u001b[0m\u001b[1;33m\u001b[0m\u001b[0m\n\u001b[1;32m-> 5333\u001b[1;33m         \u001b[1;32mreturn\u001b[0m \u001b[0mmcontour\u001b[0m\u001b[1;33m.\u001b[0m\u001b[0mQuadContourSet\u001b[0m\u001b[1;33m(\u001b[0m\u001b[0mself\u001b[0m\u001b[1;33m,\u001b[0m \u001b[1;33m*\u001b[0m\u001b[0margs\u001b[0m\u001b[1;33m,\u001b[0m \u001b[1;33m**\u001b[0m\u001b[0mkwargs\u001b[0m\u001b[1;33m)\u001b[0m\u001b[1;33m\u001b[0m\u001b[0m\n\u001b[0m\u001b[0;32m   5334\u001b[0m     \u001b[0mcontour\u001b[0m\u001b[1;33m.\u001b[0m\u001b[0m__doc__\u001b[0m \u001b[1;33m=\u001b[0m \u001b[0mmcontour\u001b[0m\u001b[1;33m.\u001b[0m\u001b[0mQuadContourSet\u001b[0m\u001b[1;33m.\u001b[0m\u001b[0mcontour_doc\u001b[0m\u001b[1;33m\u001b[0m\u001b[0m\n\u001b[0;32m   5335\u001b[0m \u001b[1;33m\u001b[0m\u001b[0m\n",
      "\u001b[1;32m/home/paula/anaconda/lib/python2.7/site-packages/matplotlib/contour.pyc\u001b[0m in \u001b[0;36m__init__\u001b[1;34m(self, ax, *args, **kwargs)\u001b[0m\n\u001b[0;32m   1427\u001b[0m         \u001b[0mare\u001b[0m \u001b[0mdescribed\u001b[0m \u001b[1;32min\u001b[0m \u001b[0mQuadContourSet\u001b[0m\u001b[1;33m.\u001b[0m\u001b[0mcontour_doc\u001b[0m\u001b[1;33m.\u001b[0m\u001b[1;33m\u001b[0m\u001b[0m\n\u001b[0;32m   1428\u001b[0m         \"\"\"\n\u001b[1;32m-> 1429\u001b[1;33m         \u001b[0mContourSet\u001b[0m\u001b[1;33m.\u001b[0m\u001b[0m__init__\u001b[0m\u001b[1;33m(\u001b[0m\u001b[0mself\u001b[0m\u001b[1;33m,\u001b[0m \u001b[0max\u001b[0m\u001b[1;33m,\u001b[0m \u001b[1;33m*\u001b[0m\u001b[0margs\u001b[0m\u001b[1;33m,\u001b[0m \u001b[1;33m**\u001b[0m\u001b[0mkwargs\u001b[0m\u001b[1;33m)\u001b[0m\u001b[1;33m\u001b[0m\u001b[0m\n\u001b[0m\u001b[0;32m   1430\u001b[0m \u001b[1;33m\u001b[0m\u001b[0m\n\u001b[0;32m   1431\u001b[0m     \u001b[1;32mdef\u001b[0m \u001b[0m_process_args\u001b[0m\u001b[1;33m(\u001b[0m\u001b[0mself\u001b[0m\u001b[1;33m,\u001b[0m \u001b[1;33m*\u001b[0m\u001b[0margs\u001b[0m\u001b[1;33m,\u001b[0m \u001b[1;33m**\u001b[0m\u001b[0mkwargs\u001b[0m\u001b[1;33m)\u001b[0m\u001b[1;33m:\u001b[0m\u001b[1;33m\u001b[0m\u001b[0m\n",
      "\u001b[1;32m/home/paula/anaconda/lib/python2.7/site-packages/matplotlib/contour.pyc\u001b[0m in \u001b[0;36m__init__\u001b[1;34m(self, ax, *args, **kwargs)\u001b[0m\n\u001b[0;32m    874\u001b[0m \u001b[1;33m\u001b[0m\u001b[0m\n\u001b[0;32m    875\u001b[0m         \u001b[0mself\u001b[0m\u001b[1;33m.\u001b[0m\u001b[0m_process_args\u001b[0m\u001b[1;33m(\u001b[0m\u001b[1;33m*\u001b[0m\u001b[0margs\u001b[0m\u001b[1;33m,\u001b[0m \u001b[1;33m**\u001b[0m\u001b[0mkwargs\u001b[0m\u001b[1;33m)\u001b[0m\u001b[1;33m\u001b[0m\u001b[0m\n\u001b[1;32m--> 876\u001b[1;33m         \u001b[0mself\u001b[0m\u001b[1;33m.\u001b[0m\u001b[0m_process_levels\u001b[0m\u001b[1;33m(\u001b[0m\u001b[1;33m)\u001b[0m\u001b[1;33m\u001b[0m\u001b[0m\n\u001b[0m\u001b[0;32m    877\u001b[0m \u001b[1;33m\u001b[0m\u001b[0m\n\u001b[0;32m    878\u001b[0m         \u001b[1;32mif\u001b[0m \u001b[0mself\u001b[0m\u001b[1;33m.\u001b[0m\u001b[0mcolors\u001b[0m \u001b[1;32mis\u001b[0m \u001b[1;32mnot\u001b[0m \u001b[0mNone\u001b[0m\u001b[1;33m:\u001b[0m\u001b[1;33m\u001b[0m\u001b[0m\n",
      "\u001b[1;32m/home/paula/anaconda/lib/python2.7/site-packages/matplotlib/contour.pyc\u001b[0m in \u001b[0;36m_process_levels\u001b[1;34m(self)\u001b[0m\n\u001b[0;32m   1205\u001b[0m         \u001b[1;31m# The following attributes are no longer needed, and\u001b[0m\u001b[1;33m\u001b[0m\u001b[1;33m\u001b[0m\u001b[0m\n\u001b[0;32m   1206\u001b[0m         \u001b[1;31m# should be deprecated and removed to reduce confusion.\u001b[0m\u001b[1;33m\u001b[0m\u001b[1;33m\u001b[0m\u001b[0m\n\u001b[1;32m-> 1207\u001b[1;33m         \u001b[0mself\u001b[0m\u001b[1;33m.\u001b[0m\u001b[0mvmin\u001b[0m \u001b[1;33m=\u001b[0m \u001b[0mnp\u001b[0m\u001b[1;33m.\u001b[0m\u001b[0mamin\u001b[0m\u001b[1;33m(\u001b[0m\u001b[0mself\u001b[0m\u001b[1;33m.\u001b[0m\u001b[0mlevels\u001b[0m\u001b[1;33m)\u001b[0m\u001b[1;33m\u001b[0m\u001b[0m\n\u001b[0m\u001b[0;32m   1208\u001b[0m         \u001b[0mself\u001b[0m\u001b[1;33m.\u001b[0m\u001b[0mvmax\u001b[0m \u001b[1;33m=\u001b[0m \u001b[0mnp\u001b[0m\u001b[1;33m.\u001b[0m\u001b[0mamax\u001b[0m\u001b[1;33m(\u001b[0m\u001b[0mself\u001b[0m\u001b[1;33m.\u001b[0m\u001b[0mlevels\u001b[0m\u001b[1;33m)\u001b[0m\u001b[1;33m\u001b[0m\u001b[0m\n\u001b[0;32m   1209\u001b[0m \u001b[1;33m\u001b[0m\u001b[0m\n",
      "\u001b[1;32m/home/paula/anaconda/lib/python2.7/site-packages/numpy/core/fromnumeric.pyc\u001b[0m in \u001b[0;36mamin\u001b[1;34m(a, axis, out, keepdims)\u001b[0m\n\u001b[0;32m   2222\u001b[0m     \u001b[1;32melse\u001b[0m\u001b[1;33m:\u001b[0m\u001b[1;33m\u001b[0m\u001b[0m\n\u001b[0;32m   2223\u001b[0m         return _methods._amin(a, axis=axis,\n\u001b[1;32m-> 2224\u001b[1;33m                             out=out, keepdims=keepdims)\n\u001b[0m\u001b[0;32m   2225\u001b[0m \u001b[1;33m\u001b[0m\u001b[0m\n\u001b[0;32m   2226\u001b[0m \u001b[1;32mdef\u001b[0m \u001b[0malen\u001b[0m\u001b[1;33m(\u001b[0m\u001b[0ma\u001b[0m\u001b[1;33m)\u001b[0m\u001b[1;33m:\u001b[0m\u001b[1;33m\u001b[0m\u001b[0m\n",
      "\u001b[1;32m/home/paula/anaconda/lib/python2.7/site-packages/numpy/core/_methods.pyc\u001b[0m in \u001b[0;36m_amin\u001b[1;34m(a, axis, out, keepdims)\u001b[0m\n\u001b[0;32m     27\u001b[0m \u001b[1;33m\u001b[0m\u001b[0m\n\u001b[0;32m     28\u001b[0m \u001b[1;32mdef\u001b[0m \u001b[0m_amin\u001b[0m\u001b[1;33m(\u001b[0m\u001b[0ma\u001b[0m\u001b[1;33m,\u001b[0m \u001b[0maxis\u001b[0m\u001b[1;33m=\u001b[0m\u001b[0mNone\u001b[0m\u001b[1;33m,\u001b[0m \u001b[0mout\u001b[0m\u001b[1;33m=\u001b[0m\u001b[0mNone\u001b[0m\u001b[1;33m,\u001b[0m \u001b[0mkeepdims\u001b[0m\u001b[1;33m=\u001b[0m\u001b[0mFalse\u001b[0m\u001b[1;33m)\u001b[0m\u001b[1;33m:\u001b[0m\u001b[1;33m\u001b[0m\u001b[0m\n\u001b[1;32m---> 29\u001b[1;33m     \u001b[1;32mreturn\u001b[0m \u001b[0mumr_minimum\u001b[0m\u001b[1;33m(\u001b[0m\u001b[0ma\u001b[0m\u001b[1;33m,\u001b[0m \u001b[0maxis\u001b[0m\u001b[1;33m,\u001b[0m \u001b[0mNone\u001b[0m\u001b[1;33m,\u001b[0m \u001b[0mout\u001b[0m\u001b[1;33m,\u001b[0m \u001b[0mkeepdims\u001b[0m\u001b[1;33m)\u001b[0m\u001b[1;33m\u001b[0m\u001b[0m\n\u001b[0m\u001b[0;32m     30\u001b[0m \u001b[1;33m\u001b[0m\u001b[0m\n\u001b[0;32m     31\u001b[0m \u001b[1;32mdef\u001b[0m \u001b[0m_sum\u001b[0m\u001b[1;33m(\u001b[0m\u001b[0ma\u001b[0m\u001b[1;33m,\u001b[0m \u001b[0maxis\u001b[0m\u001b[1;33m=\u001b[0m\u001b[0mNone\u001b[0m\u001b[1;33m,\u001b[0m \u001b[0mdtype\u001b[0m\u001b[1;33m=\u001b[0m\u001b[0mNone\u001b[0m\u001b[1;33m,\u001b[0m \u001b[0mout\u001b[0m\u001b[1;33m=\u001b[0m\u001b[0mNone\u001b[0m\u001b[1;33m,\u001b[0m \u001b[0mkeepdims\u001b[0m\u001b[1;33m=\u001b[0m\u001b[0mFalse\u001b[0m\u001b[1;33m)\u001b[0m\u001b[1;33m:\u001b[0m\u001b[1;33m\u001b[0m\u001b[0m\n",
      "\u001b[1;31mValueError\u001b[0m: zero-size array to reduction operation minimum which has no identity"
     ]
    },
    {
     "data": {
      "image/png": "[encoded data removed]",
      "text/plain": [
       "<matplotlib.figure.Figure at 0x7fa10c446b50>"
      ]
     },
     "metadata": {},
     "output_type": "display_data"
    }
   ],
   "source": [
    "#Graficar \n",
    "plt.figure(figsize=(12,10))\n",
    "ax=fig.add_subplot(111)\n",
    "figure.colorbar(ax.pcolor(xx,yy,1000*Pot[Nl/2],cmap='gist_heat'))\n",
    "plt.clabel(ax.contour(xx,yy,1000*Pot[Nl/2],levels==[-16,40,-100,-200,-400,-800,-1600],colors='k'))\n",
    "#plt.pcolor(yy,zz,campo[50]*100**2,cmap='gist_heat')\n",
    "#plt.colorbar()\n",
    "#plt.contour(yy,zz,campo[50]*100**2)\n",
    "#plt.xlim(ymin,ymax)\n",
    "#plt.ylim(zmin,zmax)\n",
    "plt.show()"
   ]
  },
  {
   "cell_type": "code",
   "execution_count": null,
   "metadata": {
    "collapsed": true
   },
   "outputs": [],
   "source": []
  }
 ],
 "metadata": {
  "kernelspec": {
   "display_name": "Python 2",
   "language": "python",
   "name": "python2"
  },
  "language_info": {
   "codemirror_mode": {
    "name": "ipython",
    "version": 2
   },
   "file_extension": ".py",
   "mimetype": "text/x-python",
   "name": "python",
   "nbconvert_exporter": "python",
   "pygments_lexer": "ipython2",
   "version": "2.7.10"
  }
 },
 "nbformat": 4,
 "nbformat_minor": 0
}
