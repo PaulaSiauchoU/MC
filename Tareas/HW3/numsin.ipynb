{
 "cells": [
  {
   "cell_type": "code",
   "execution_count": 2,
   "metadata": {
    "collapsed": false
   },
   "outputs": [
    {
     "name": "stdout",
     "output_type": "stream",
     "text": [
      "Populating the interactive namespace from numpy and matplotlib\n"
     ]
    }
   ],
   "source": [
    "%pylab inline"
   ]
  },
  {
   "cell_type": "code",
   "execution_count": 50,
   "metadata": {
    "collapsed": false
   },
   "outputs": [
    {
     "name": "stdout",
     "output_type": "stream",
     "text": [
      "-2\n"
     ]
    }
   ],
   "source": [
    "#definición de la función, punto a\n",
    "\n",
    "def func_mc(nterm,x):\n",
    "    for i in range (nterm):\n",
    "        termino=(-pow(x,2)*(pow(i-1,nterm)))/(((2*i)-1)*((2*i)-2))\n",
    "        sumar=0\n",
    "        sumar+=termino\n",
    "        i+=1\n",
    "        return sumar   \n"
   ]
  },
  {
   "cell_type": "code",
   "execution_count": null,
   "metadata": {
    "collapsed": false
   },
   "outputs": [],
   "source": [
    "#punto b Se define un array, llenar, el cual se rellena con el número de iteraciones según  el ángulo. \n",
    "#Después se establecen las condiciones para que se escoja el número de iteraciones a partir del error. \n",
    "llenar=[0]*99\n",
    "\n",
    "cosa=linspace(0.,45,100)\n",
    "for i in range(0,45,100):\n",
    "    vulpix=(sin(i+1))\n",
    "    for j in range (1000000):\n",
    "        pikachu=func_mc(j+1,i+1)\n",
    "        if abs(pikachu-vulpix)<0.01:\n",
    "            llenar.append(j)\n",
    "            break\n",
    "        else: \n",
    "            j+=1\n",
    "print len(llenar)\n",
    "plot(cosa,llenar)"
   ]
  },
  {
   "cell_type": "code",
   "execution_count": null,
   "metadata": {
    "collapsed": true
   },
   "outputs": [],
   "source": []
  }
 ],
 "metadata": {
  "kernelspec": {
   "display_name": "Python 2",
   "language": "python",
   "name": "python2"
  },
  "language_info": {
   "codemirror_mode": {
    "name": "ipython",
    "version": 2
   },
   "file_extension": ".py",
   "mimetype": "text/x-python",
   "name": "python",
   "nbconvert_exporter": "python",
   "pygments_lexer": "ipython2",
   "version": "2.7.10"
  }
 },
 "nbformat": 4,
 "nbformat_minor": 0
}
