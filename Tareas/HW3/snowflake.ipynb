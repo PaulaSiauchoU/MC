{
 "cells": [
  {
   "cell_type": "code",
   "execution_count": 28,
   "metadata": {
    "collapsed": false
   },
   "outputs": [
    {
     "name": "stdout",
     "output_type": "stream",
     "text": [
      "Populating the interactive namespace from numpy and matplotlib\n"
     ]
    }
   ],
   "source": [
    "%pylab inline\n",
    "import turtle as t\n",
    "import matplotlib.pyplot as plt"
   ]
  },
  {
   "cell_type": "code",
   "execution_count": 81,
   "metadata": {
    "collapsed": true
   },
   "outputs": [],
   "source": [
    "#define las direcciones y longitudes de una cara en la primera iteración.\n",
    "def lado(j,d,dd):\n",
    "# \"j\" es la direccón del lado del triángulo, \"d\" la distancia a recorrer por cada movimiento, \"dd\" para futuras iteraciones del \"subplano\" de cada uno de los lados que queda en cada cara del triángulo.\n",
    "# hay cuatro movimientos el primero y el ultimo son paralelos, el segundo es ascendente y el tercero es descendente. \n",
    "    t.setheading(j+dd)\n",
    "    t.forward(d)\n",
    "    t.setheading(j+dd+300)\n",
    "    t.forward(d)\n",
    "    t.setheading(j+dd+60)\n",
    "    t.forward(d)\n",
    "    t.setheading(j+dd)\n",
    "    t.forward(d)    "
   ]
  },
  {
   "cell_type": "code",
   "execution_count": 82,
   "metadata": {
    "collapsed": true
   },
   "outputs": [],
   "source": [
    "#Este metodo define los llamados \"subplanos\" para el lado de angulo cero del triángulo.\n",
    "def lado2(n,j):\n",
    "    for i in range(0,4):\n",
    "        #define la cantidad de lados de el copo.\n",
    "                x=3**n\n",
    "            #Los dos primeros condicionales definen la iteracion en el plano que se trabaja.\n",
    "                if i ==0:\n",
    "                    dd=0\n",
    "                    d=(300.00/x)\n",
    "                    lado(j,d,dd)\n",
    "                elif i ==3:\n",
    "                    dd=0\n",
    "                    d=(300.00/x)\n",
    "                    lado(j,d,dd)\n",
    "            #Define la iteración del plano descendente.\n",
    "                elif i ==1:\n",
    "                    dd=300\n",
    "                    d=(300.00/x)\n",
    "                    lado(j,d,dd)\n",
    "            #Define la iteracion del plano ascendente.\n",
    "                elif i ==2:\n",
    "                    dd=60\n",
    "                    d=(300.00/x)\n",
    "                    lado(j,d,dd)"
   ]
  },
  {
   "cell_type": "code",
   "execution_count": 93,
   "metadata": {
    "collapsed": true
   },
   "outputs": [],
   "source": [
    "#Lo mismo del metodo anterior pero para el ultimo lado. \n",
    "def lado2_2(n,j):\n",
    "    for i in range(0,4):\n",
    "                x=3**n\n",
    "                if i ==0:\n",
    "                    dd=60\n",
    "                    d=(300.00/x)\n",
    "                    lado(j,d,dd)\n",
    "                elif i ==3:\n",
    "                    dd=60\n",
    "                    d=(300.00/x)\n",
    "                    lado(j,d,dd)\n",
    "                elif i ==1:\n",
    "                    dd=360\n",
    "                    d=(300.00/x)\n",
    "                    lado(j,d,dd)\n",
    "                elif i ==2:\n",
    "                    dd=120\n",
    "                    d=(300.00/x)\n",
    "                    lado(j,d,dd)\n"
   ]
  },
  {
   "cell_type": "code",
   "execution_count": 94,
   "metadata": {
    "collapsed": true
   },
   "outputs": [],
   "source": [
    "def lado3(n,j):\n",
    "    for i in range(0,4):\n",
    "            x=3**n\n",
    "            if i ==0:\n",
    "                dd=0\n",
    "                j=j+dd\n",
    "                d=(300.00/x)\n",
    "                lado2(n,j)\n",
    "                lado2_1(n,j)\n",
    "                lado2_2(n,j)\n",
    "                lado2(n,j)\n",
    "                j=j-dd\n",
    "            elif i ==3:\n",
    "                dd=0\n",
    "                j=j+dd\n",
    "                d=(300.00/x)\n",
    "                lado2(n,j)\n",
    "                lado2_1(n,j)\n",
    "                lado2_2(n,j)\n",
    "                lado2(n,j)\n",
    "                j=j-dd\n",
    "            elif i ==1:\n",
    "                dd=300\n",
    "                j=j+dd\n",
    "                d=(300.00/x)\n",
    "                lado2(n,j)\n",
    "                lado2_1(n,j)\n",
    "                lado2_2(n,j)\n",
    "                lado2(n,j)\n",
    "                j=j-dd\n",
    "            elif i ==2:\n",
    "                dd=60\n",
    "                j=j+dd\n",
    "                d=(300.00/x)\n",
    "                lado2(n,j)\n",
    "                lado2_1(n,j)\n",
    "                lado2_2(n,j)\n",
    "                lado2(n,j)\n",
    "                j=j-dd"
   ]
  },
  {
   "cell_type": "code",
   "execution_count": 132,
   "metadata": {
    "collapsed": true
   },
   "outputs": [],
   "source": [
    "#con este metodo se dibuja un triangulo.\n",
    "def step0():\n",
    "    #define el tamaño de la pantalla.\n",
    "    t.screensize(1010,660)\n",
    "    #define la longitud de los lados.\n",
    "    y=300\n",
    "    #define el color de la pantalla.\n",
    "    t.bgcolor(\"black\")\n",
    "    #define el color de la \"tortuga\".\n",
    "    t.pencolor(\"white\")\n",
    "    #hace invisible la tortuga\n",
    "    t.hideturtle()\n",
    "    t.forward(y)\n",
    "    t.setheading(120)\n",
    "    t.forward(y)\n",
    "    t.setheading(240)\n",
    "    t.forward(y)"
   ]
  },
  {
   "cell_type": "code",
   "execution_count": 96,
   "metadata": {
    "collapsed": true
   },
   "outputs": [],
   "source": [
    "#este metodo dibuja la segunda figura.\n",
    "def step1():\n",
    "    t.speed('fastest')\n",
    "    t.bgcolor(\"black\")\n",
    "    t.pencolor(\"white\")\n",
    "    t.hideturtle()\n",
    "    n=1\n",
    "    for i in range(0,3):\n",
    "        j=i*120\n",
    "        x=3**n\n",
    "        d=(300/x)\n",
    "        dd=0\n",
    "        lado(j,d,dd)"
   ]
  },
  {
   "cell_type": "code",
   "execution_count": 97,
   "metadata": {
    "collapsed": true
   },
   "outputs": [],
   "source": [
    "#este metodo dibuja la tercera figura.\n",
    "def step2():\n",
    "    t.speed('fastest')\n",
    "    t.bgcolor(\"black\")\n",
    "    t.pencolor(\"white\")\n",
    "    t.hideturtle()\n",
    "    n=2\n",
    "    for k in range (0,3):\n",
    "        j=k*120\n",
    "        lado2(n,j)"
   ]
  },
  {
   "cell_type": "code",
   "execution_count": 98,
   "metadata": {
    "collapsed": true
   },
   "outputs": [],
   "source": [
    "#este metodo dibuja la cuarta figura.\n",
    "def step3():\n",
    "    t.speed('fastest')\n",
    "    t.bgcolor(\"black\")\n",
    "    t.pencolor(\"white\")\n",
    "    t.hideturtle()\n",
    "    n=3\n",
    "    for k in range(0,3):\n",
    "        x=3**n\n",
    "        j=k*120\n",
    "        lado2(n,j)\n",
    "        lado2_1(n,j)\n",
    "        lado2_2(n,j)\n",
    "        lado2(n,j)"
   ]
  },
  {
   "cell_type": "code",
   "execution_count": 99,
   "metadata": {
    "collapsed": true
   },
   "outputs": [],
   "source": [
    "#este metodo dibuja la quinta figura.\n",
    "def step4():\n",
    "    t.speed('fastest')\n",
    "    t.bgcolor(\"black\")\n",
    "    t.pencolor(\"white\")\n",
    "    t.hideturtle()\n",
    "    n=4\n",
    "    for k in range(0,3):\n",
    "        j=k*120\n",
    "        lado3(n,j)"
   ]
  },
  {
   "cell_type": "code",
   "execution_count": 100,
   "metadata": {
    "collapsed": true
   },
   "outputs": [],
   "source": [
    "#este metodo dibuja la segunda figura.\n",
    "def step5():\n",
    "    t.speed('fastest')\n",
    "    t.bgcolor(\"black\")\n",
    "    t.pencolor(\"white\")\n",
    "    t.hideturtle()\n",
    "    n=5\n",
    "    for k in range(0,3):\n",
    "        x=3**n\n",
    "        j=k*120\n",
    "        for i in range(0,4):\n",
    "            if i ==0:\n",
    "                dd=0\n",
    "                j=j+dd\n",
    "                d=(300.00/x)\n",
    "                lado3(n,j)\n",
    "                j=j-dd\n",
    "            elif i ==3:\n",
    "                dd=0\n",
    "                j=j+dd\n",
    "                d=(300.00/x)\n",
    "                lado3(n,j)\n",
    "                j=j-dd\n",
    "            elif i ==1:\n",
    "                dd=300\n",
    "                j=j+dd\n",
    "                d=(300.00/x)\n",
    "                lado3(n,j)\n",
    "                j=j-dd\n",
    "            elif i ==2:\n",
    "                dd=60\n",
    "                j=j+dd\n",
    "                d=(300.00/x)\n",
    "                lado3(n,j)\n",
    "                j=j-dd"
   ]
  },
  {
   "cell_type": "code",
   "execution_count": 133,
   "metadata": {
    "collapsed": true
   },
   "outputs": [],
   "source": [
    "#dibuja el panel con las seis figuras.\n",
    "def dibuja_panel():\n",
    "    #no permite que se dibuje el comando siguiente.\n",
    "    t.penup()\n",
    "    #Asigna una posicion donde comienza la figura.\n",
    "    t.goto(-485,50)\n",
    "    #permite que se dibuje el comando siguiente.\n",
    "    t.pendown()\n",
    "    #Dibuja una figura\n",
    "    step0()\n",
    "    #no permite que se dibuje el comando siguiente.\n",
    "    t.penup()\n",
    "    #Asigna una posicion donde comienza la figura.\n",
    "    t.goto(-165,80)\n",
    "    #permite que se dibuje el comando siguiente.\n",
    "    t.pendown()\n",
    "    #Dibuja una figura\n",
    "    step1()\n",
    "    #no permite que se dibuje el comando siguiente.\n",
    "    t.penup()\n",
    "    #Asigna una posicion donde comienza la figura.\n",
    "    t.goto(260,50)\n",
    "    #permite que se dibuje el comando siguiente.\n",
    "    t.pendown()\n",
    "    #Dibuja una figura\n",
    "    step2()\n",
    "    #no permite que se dibuje el comando siguiente.\n",
    "    t.penup()\n",
    "    #Asigna una posicion donde comienza la figura.\n",
    "    t.goto(-475,-275)\n",
    "    #permite que se dibuje el comando siguiente.\n",
    "    t.pendown()\n",
    "    #Dibuja una figura\n",
    "    step3()\n",
    "    #no permite que se dibuje el comando siguiente.\n",
    "    t.penup()\n",
    "    #Asigna una posicion donde comienza la figura.\n",
    "    t.goto(-165,-275)\n",
    "    #permite que se dibuje el comando siguiente.\n",
    "    t.pendown()\n",
    "    #Dibuja una figura\n",
    "    step4()\n",
    "    #no permite que se dibuje el comando siguiente.    \n",
    "    t.penup()\n",
    "    #Asigna una posicion donde comienza la figura.\n",
    "    t.goto(260,-275)\n",
    "    #permite que se dibuje el comando siguiente.\n",
    "    t.pendown()\n",
    "    #Dibuja una figura\n",
    "    step5()"
   ]
  },
  {
   "cell_type": "code",
   "execution_count": null,
   "metadata": {
    "collapsed": true
   },
   "outputs": [],
   "source": [
    "dibuja_panel()"
   ]
  }
 ],
 "metadata": {
  "kernelspec": {
   "display_name": "Python 2",
   "language": "python",
   "name": "python2"
  },
  "language_info": {
   "codemirror_mode": {
    "name": "ipython",
    "version": 2
   },
   "file_extension": ".py",
   "mimetype": "text/x-python",
   "name": "python",
   "nbconvert_exporter": "python",
   "pygments_lexer": "ipython2",
   "version": "2.7.10"
  }
 },
 "nbformat": 4,
 "nbformat_minor": 0
}
