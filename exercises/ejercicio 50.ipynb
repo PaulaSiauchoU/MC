{
 "metadata": {
  "name": ""
 },
 "nbformat": 3,
 "nbformat_minor": 0,
 "worksheets": [
  {
   "cells": [
    {
     "cell_type": "code",
     "collapsed": false,
     "input": [
      "import numpy\n"
     ],
     "language": "python",
     "metadata": {},
     "outputs": [],
     "prompt_number": 1
    },
    {
     "cell_type": "code",
     "collapsed": false,
     "input": [
      "a=int(raw_input (\"Por favor, ingrese n\u00famero a \"))\n",
      "b=int(raw_input (\"Por favor, ingrese n\u00famero b \"))\n",
      "c=int(raw_input (\"Por favor, ingrese n\u00famero c \"))"
     ],
     "language": "python",
     "metadata": {},
     "outputs": [
      {
       "name": "stdout",
       "output_type": "stream",
       "stream": "stdout",
       "text": [
        "Por favor, ingrese n\u00famero a 1\n"
       ]
      },
      {
       "name": "stdout",
       "output_type": "stream",
       "stream": "stdout",
       "text": [
        "Por favor, ingrese n\u00famero b 23\n"
       ]
      },
      {
       "name": "stdout",
       "output_type": "stream",
       "stream": "stdout",
       "text": [
        "Por favor, ingrese n\u00famero c 2\n"
       ]
      }
     ],
     "prompt_number": 15
    },
    {
     "cell_type": "code",
     "collapsed": false,
     "input": [
      "disc=(b*b)-(4*a*c)\n",
      "sol1=(-b+\n",
      "print disc"
     ],
     "language": "python",
     "metadata": {},
     "outputs": [
      {
       "output_type": "stream",
       "stream": "stdout",
       "text": [
        "521\n"
       ]
      }
     ],
     "prompt_number": 16
    },
    {
     "cell_type": "code",
     "collapsed": false,
     "input": [
      "if disc < 0:\n",
      "    print \" la ecuaci\u00f3n no tiene raices reales\"\n",
      "else:\n",
      "    if disc == 0:\n",
      "        print \"la ecuaci\u00f3n tiene una sola raiz real\"\n",
      "    else:\n",
      "        print \" la ecuaci\u00f3n tiene dos raices reales\"\n",
      "        \n"
     ],
     "language": "python",
     "metadata": {},
     "outputs": [
      {
       "output_type": "stream",
       "stream": "stdout",
       "text": [
        " la ecuaci\u00f3n tiene dos raices reales\n"
       ]
      }
     ],
     "prompt_number": 20
    },
    {
     "cell_type": "code",
     "collapsed": false,
     "input": [],
     "language": "python",
     "metadata": {},
     "outputs": []
    }
   ],
   "metadata": {}
  }
 ]
}