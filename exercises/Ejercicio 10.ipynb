{
 "metadata": {
  "name": ""
 },
 "nbformat": 3,
 "nbformat_minor": 0,
 "worksheets": [
  {
   "cells": [
    {
     "cell_type": "code",
     "collapsed": false,
     "input": [
      "import numpy\n",
      "a=int(raw_input (\"Por favor, ingrese n\u00famero a \"))\n",
      "b=int(raw_input (\"Por favor, ingrese n\u00famero b \"))\n",
      "\n"
     ],
     "language": "python",
     "metadata": {},
     "outputs": [
      {
       "name": "stdout",
       "output_type": "stream",
       "stream": "stdout",
       "text": [
        "Por favor, ingrese n\u00famero a 2\n"
       ]
      },
      {
       "name": "stdout",
       "output_type": "stream",
       "stream": "stdout",
       "text": [
        "Por favor, ingrese n\u00famero b 3\n"
       ]
      }
     ],
     "prompt_number": 10
    },
    {
     "cell_type": "code",
     "collapsed": false,
     "input": [
      "print \"La suma de a y b es\" \n",
      "print a+b\n",
      "print \"La resta de b menos a es\" \n",
      "print a - b\n",
      "print \"La multiplicaci\u00f3n de a y b es\" \n",
      "print a*b\n",
      "print \"La divisi\u00f3n de a entre b\" \n",
      "print a/b\n",
      "print \"El logaritmo en base 10 de a\"\n",
      "print numpy.log10(a)\n",
      "print \"a elevado a b es\"\n",
      "print a^b"
     ],
     "language": "python",
     "metadata": {},
     "outputs": [
      {
       "output_type": "stream",
       "stream": "stdout",
       "text": [
        "La suma de a y b es\n",
        "5\n",
        "La resta de b menos a es\n",
        "-1\n",
        "La multiplicaci\u00f3n de a y b es\n",
        "6\n",
        "La divisi\u00f3n de a entre b\n",
        "0\n",
        "El logaritmo en base 10 de a\n",
        "0.301029995664\n",
        "a elevado a b es\n",
        "1\n"
       ]
      }
     ],
     "prompt_number": 11
    },
    {
     "cell_type": "code",
     "collapsed": false,
     "input": [],
     "language": "python",
     "metadata": {},
     "outputs": []
    }
   ],
   "metadata": {}
  }
 ]
}