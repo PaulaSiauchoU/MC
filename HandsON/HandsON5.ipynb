{
 "cells": [
  {
   "cell_type": "code",
   "execution_count": 2,
   "metadata": {
    "collapsed": true
   },
   "outputs": [],
   "source": [
    "import matplotlib.pyplot as plt\n",
    "import numpy as np\n",
    "\n",
    "a = np.linspace(1,25,25)\n",
    "b = np.linspace(2,26,25)\n",
    "t = np.linspace(0,2*np.pi,200)\n",
    "\n",
    "plt.figure(figsize=(8, 8))\n",
    "plt.subplots_adjust(hspace=0.00, wspace=0.00)\n",
    "for i in range(0,25):\n",
    "    x = (np.sin(a[i]*t) + (np.pi/2))\n",
    "    y = np.sin(b[i]*t)\n",
    "    plt.subplot(5,5,i+1)\n",
    "    plt.plot(x,y,color='blueviolet')\n",
    "    plt.axis(\"off\")\n",
    "plt.savefig(\"lissajous.png\", format='png',bbox_inches='tight',transparent=False)"
   ]
  },
  {
   "cell_type": "code",
   "execution_count": null,
   "metadata": {
    "collapsed": true
   },
   "outputs": [],
   "source": []
  }
 ],
 "metadata": {
  "kernelspec": {
   "display_name": "Python 2",
   "language": "python",
   "name": "python2"
  },
  "language_info": {
   "codemirror_mode": {
    "name": "ipython",
    "version": 2
   },
   "file_extension": ".py",
   "mimetype": "text/x-python",
   "name": "python",
   "nbconvert_exporter": "python",
   "pygments_lexer": "ipython2",
   "version": "2.7.10"
  }
 },
 "nbformat": 4,
 "nbformat_minor": 0
}
